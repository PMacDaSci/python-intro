{
 "cells": [
  {
   "cell_type": "markdown",
   "metadata": {},
   "source": [
    "### Exercise 2.3.2 Part B"
   ]
  },
  {
   "cell_type": "code",
   "execution_count": 3,
   "metadata": {},
   "outputs": [],
   "source": [
    "import csv"
   ]
  },
  {
   "cell_type": "code",
   "execution_count": 4,
   "metadata": {},
   "outputs": [],
   "source": [
    "mRNA = \"AUGUUCGAGCGUAGAACGAAGGGAACCUAUCUGGUGAGCAUUGAAUCAGAUACGACAUAA\""
   ]
  },
  {
   "cell_type": "code",
   "execution_count": 5,
   "metadata": {},
   "outputs": [],
   "source": [
    "fn = \"./data/RNA_DNA.csv\""
   ]
  },
  {
   "cell_type": "code",
   "execution_count": 6,
   "metadata": {},
   "outputs": [
    {
     "name": "stdout",
     "output_type": "stream",
     "text": [
      "{'A': 'T', 'C': 'G', 'G': 'C', 'U': 'A'}\n"
     ]
    }
   ],
   "source": [
    "RNA2DNA = dict()\n",
    "with open(fn, \"r\") as infile:\n",
    "    reader = csv.reader(infile)\n",
    "    for line in reader:\n",
    "        RNA2DNA[line[0]] = line[1]\n",
    "\n",
    "print(RNA2DNA)"
   ]
  },
  {
   "cell_type": "code",
   "execution_count": 9,
   "metadata": {},
   "outputs": [
    {
     "name": "stdout",
     "output_type": "stream",
     "text": [
      "TTATGTCGTATCTGATTCAATGCTCACCAGATAGGTTCCCTTCGTTCTACGCTCGAACAT\n"
     ]
    }
   ],
   "source": [
    "DNA = \"\"\n",
    "for index in range(len(mRNA), 0, -1):\n",
    "    rna_base = mRNA[index - 1]\n",
    "    dna_base = RNA2DNA[rna_base]\n",
    "    DNA += dna_base\n",
    "print(DNA)\n",
    "    "
   ]
  },
  {
   "cell_type": "code",
   "execution_count": null,
   "metadata": {},
   "outputs": [],
   "source": []
  }
 ],
 "metadata": {
  "kernelspec": {
   "display_name": "Python 3",
   "language": "python",
   "name": "python3"
  },
  "language_info": {
   "codemirror_mode": {
    "name": "ipython",
    "version": 3
   },
   "file_extension": ".py",
   "mimetype": "text/x-python",
   "name": "python",
   "nbconvert_exporter": "python",
   "pygments_lexer": "ipython3",
   "version": "3.6.6"
  }
 },
 "nbformat": 4,
 "nbformat_minor": 2
}
