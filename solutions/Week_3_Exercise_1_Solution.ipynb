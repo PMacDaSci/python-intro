{
 "cells": [
  {
   "cell_type": "markdown",
   "metadata": {},
   "source": [
    "## Exercise 2.0.1 Solutions\n"
   ]
  },
  {
   "cell_type": "code",
   "execution_count": 1,
   "metadata": {},
   "outputs": [],
   "source": [
    "lyrics = \"\"\"\n",
    "Imagine there's no Heaven\n",
    "It's easy if you try\n",
    "No Hell below us\n",
    "Above us only sky\n",
    "\n",
    "Imagine all the people\n",
    "Living for today\n",
    "Aaa haa\n",
    "\n",
    "Imagine there's no countries\n",
    "It isn't hard to do\n",
    "Nothing to kill or die for\n",
    "And no religion too\n",
    "\n",
    "Imagine all the people\n",
    "Living life in peace\n",
    "Yoo hoo\n",
    "\n",
    "You may say I'm a dreamer\n",
    "But I'm not the only one\n",
    "I hope someday you'll join us\n",
    "And the world will be as one\n",
    "\n",
    "Imagine no possessions\n",
    "I wonder if you can\n",
    "No need for greed or hunger\n",
    "A brotherhood of man\n",
    "\n",
    "Imagine all the people\n",
    "Sharing all the world\n",
    "Yoo hoo\n",
    "\n",
    "You may say I'm a dreamer\n",
    "But I'm not the only one\n",
    "I hope someday you'll join us\n",
    "And the world will live as one\n",
    "\"\"\""
   ]
  },
  {
   "cell_type": "code",
   "execution_count": 4,
   "metadata": {},
   "outputs": [],
   "source": [
    "tmp = lyrics.strip()"
   ]
  },
  {
   "cell_type": "code",
   "execution_count": 7,
   "metadata": {},
   "outputs": [],
   "source": [
    "tmp = lyrics.split()"
   ]
  },
  {
   "cell_type": "code",
   "execution_count": 8,
   "metadata": {},
   "outputs": [
    {
     "data": {
      "text/plain": [
       "133"
      ]
     },
     "execution_count": 8,
     "metadata": {},
     "output_type": "execute_result"
    }
   ],
   "source": [
    "len(tmp)"
   ]
  },
  {
   "cell_type": "code",
   "execution_count": 10,
   "metadata": {},
   "outputs": [
    {
     "data": {
      "text/plain": [
       "72"
      ]
     },
     "execution_count": 10,
     "metadata": {},
     "output_type": "execute_result"
    }
   ],
   "source": [
    "len(set(tmp))"
   ]
  },
  {
   "cell_type": "code",
   "execution_count": 12,
   "metadata": {},
   "outputs": [],
   "source": [
    "freq = dict()\n",
    "freq = {}\n",
    "for word in tmp:\n",
    "    freq[word] = freq.get(word, 0) + 1"
   ]
  },
  {
   "cell_type": "code",
   "execution_count": 13,
   "metadata": {},
   "outputs": [
    {
     "name": "stdout",
     "output_type": "stream",
     "text": [
      "{'Imagine': 6, \"there's\": 2, 'no': 4, 'Heaven': 1, \"It's\": 1, 'easy': 1, 'if': 2, 'you': 2, 'try': 1, 'No': 2, 'Hell': 1, 'below': 1, 'us': 4, 'Above': 1, 'only': 3, 'sky': 1, 'all': 4, 'the': 8, 'people': 3, 'Living': 2, 'for': 3, 'today': 1, 'Aaa': 1, 'haa': 1, 'countries': 1, 'It': 1, \"isn't\": 1, 'hard': 1, 'to': 2, 'do': 1, 'Nothing': 1, 'kill': 1, 'or': 2, 'die': 1, 'And': 3, 'religion': 1, 'too': 1, 'life': 1, 'in': 1, 'peace': 1, 'Yoo': 2, 'hoo': 2, 'You': 2, 'may': 2, 'say': 2, \"I'm\": 4, 'a': 2, 'dreamer': 2, 'But': 2, 'not': 2, 'one': 4, 'I': 3, 'hope': 2, 'someday': 2, \"you'll\": 2, 'join': 2, 'world': 3, 'will': 2, 'be': 1, 'as': 2, 'possessions': 1, 'wonder': 1, 'can': 1, 'need': 1, 'greed': 1, 'hunger': 1, 'A': 1, 'brotherhood': 1, 'of': 1, 'man': 1, 'Sharing': 1, 'live': 1}\n"
     ]
    }
   ],
   "source": [
    "print(freq)"
   ]
  },
  {
   "cell_type": "code",
   "execution_count": 15,
   "metadata": {},
   "outputs": [],
   "source": [
    "freq = dict()\n",
    "for word in tmp:\n",
    "    if word in freq:\n",
    "        freq[word] = freq[word] + 1\n",
    "#         freq[word] += 1\n",
    "    else:\n",
    "        freq[word] = 1"
   ]
  },
  {
   "cell_type": "code",
   "execution_count": 16,
   "metadata": {},
   "outputs": [
    {
     "name": "stdout",
     "output_type": "stream",
     "text": [
      "{'Imagine': 6, \"there's\": 2, 'no': 4, 'Heaven': 1, \"It's\": 1, 'easy': 1, 'if': 2, 'you': 2, 'try': 1, 'No': 2, 'Hell': 1, 'below': 1, 'us': 4, 'Above': 1, 'only': 3, 'sky': 1, 'all': 4, 'the': 8, 'people': 3, 'Living': 2, 'for': 3, 'today': 1, 'Aaa': 1, 'haa': 1, 'countries': 1, 'It': 1, \"isn't\": 1, 'hard': 1, 'to': 2, 'do': 1, 'Nothing': 1, 'kill': 1, 'or': 2, 'die': 1, 'And': 3, 'religion': 1, 'too': 1, 'life': 1, 'in': 1, 'peace': 1, 'Yoo': 2, 'hoo': 2, 'You': 2, 'may': 2, 'say': 2, \"I'm\": 4, 'a': 2, 'dreamer': 2, 'But': 2, 'not': 2, 'one': 4, 'I': 3, 'hope': 2, 'someday': 2, \"you'll\": 2, 'join': 2, 'world': 3, 'will': 2, 'be': 1, 'as': 2, 'possessions': 1, 'wonder': 1, 'can': 1, 'need': 1, 'greed': 1, 'hunger': 1, 'A': 1, 'brotherhood': 1, 'of': 1, 'man': 1, 'Sharing': 1, 'live': 1}\n"
     ]
    }
   ],
   "source": [
    "print(freq)"
   ]
  },
  {
   "cell_type": "code",
   "execution_count": 31,
   "metadata": {},
   "outputs": [
    {
     "name": "stdout",
     "output_type": "stream",
     "text": [
      "{\"you'll\": 2, 'the': 8, 'countries': 1, 'I': 3, \"isn't\": 1, 'Living': 2, 'may': 2, 'a': 2, 'greed': 1, 'say': 2, 'you': 2, 'Heaven': 1, 'hoo': 2, 'kill': 1, 'You': 2, 'No': 2, 'live': 1, 'It': 1, 'wonder': 1, 'hunger': 1, 'be': 1, 'of': 1, \"there's\": 2, 'Hell': 1, 'Above': 1, 'religion': 1, 'die': 1, 'one': 4, 'But': 2, 'if': 2, 'haa': 1, 'do': 1, 'A': 1, 'peace': 1, 'dreamer': 2, 'man': 1, 'no': 4, 'Imagine': 6, 'join': 2, 'Aaa': 1, 'can': 1, \"It's\": 1, 'or': 2, 'hope': 2, 'all': 4, 'will': 2, 'someday': 2, 'Nothing': 1, 'to': 2, 'too': 1, 'today': 1, 'need': 1, 'Yoo': 2, 'life': 1, 'brotherhood': 1, 'below': 1, 'not': 2, 'possessions': 1, \"I'm\": 4, 'try': 1, 'easy': 1, 'as': 2, 'And': 3, 'us': 4, 'people': 3, 'hard': 1, 'Sharing': 1, 'in': 1, 'for': 3, 'sky': 1, 'world': 3, 'only': 3}\n"
     ]
    }
   ],
   "source": [
    "freq = dict()\n",
    "for word in set(tmp):\n",
    "    freq[word] = tmp.count(word)\n",
    "\n",
    "print(freq)"
   ]
  },
  {
   "cell_type": "code",
   "execution_count": 19,
   "metadata": {},
   "outputs": [
    {
     "name": "stdout",
     "output_type": "stream",
     "text": [
      "The word you'll appears 2 times in the lyrics Imagine\n",
      "The word the appears 11 times in the lyrics Imagine\n",
      "The word countries appears 1 times in the lyrics Imagine\n",
      "The word I appears 15 times in the lyrics Imagine\n",
      "The word isn't appears 1 times in the lyrics Imagine\n",
      "The word Living appears 2 times in the lyrics Imagine\n",
      "The word may appears 2 times in the lyrics Imagine\n",
      "The word a appears 34 times in the lyrics Imagine\n",
      "The word greed appears 1 times in the lyrics Imagine\n",
      "The word say appears 2 times in the lyrics Imagine\n",
      "The word you appears 4 times in the lyrics Imagine\n",
      "The word Heaven appears 1 times in the lyrics Imagine\n",
      "The word hoo appears 3 times in the lyrics Imagine\n",
      "The word kill appears 1 times in the lyrics Imagine\n",
      "The word You appears 2 times in the lyrics Imagine\n",
      "The word No appears 3 times in the lyrics Imagine\n",
      "The word live appears 1 times in the lyrics Imagine\n",
      "The word It appears 2 times in the lyrics Imagine\n",
      "The word wonder appears 1 times in the lyrics Imagine\n",
      "The word hunger appears 1 times in the lyrics Imagine\n",
      "The word be appears 2 times in the lyrics Imagine\n",
      "The word of appears 1 times in the lyrics Imagine\n",
      "The word there's appears 2 times in the lyrics Imagine\n",
      "The word Hell appears 1 times in the lyrics Imagine\n",
      "The word Above appears 1 times in the lyrics Imagine\n",
      "The word religion appears 1 times in the lyrics Imagine\n",
      "The word die appears 1 times in the lyrics Imagine\n",
      "The word one appears 4 times in the lyrics Imagine\n",
      "The word But appears 2 times in the lyrics Imagine\n",
      "The word if appears 3 times in the lyrics Imagine\n",
      "The word haa appears 1 times in the lyrics Imagine\n",
      "The word do appears 1 times in the lyrics Imagine\n",
      "The word A appears 6 times in the lyrics Imagine\n",
      "The word peace appears 1 times in the lyrics Imagine\n",
      "The word dreamer appears 2 times in the lyrics Imagine\n",
      "The word man appears 1 times in the lyrics Imagine\n",
      "The word no appears 6 times in the lyrics Imagine\n",
      "The word Imagine appears 6 times in the lyrics Imagine\n",
      "The word join appears 2 times in the lyrics Imagine\n",
      "The word Aaa appears 1 times in the lyrics Imagine\n",
      "The word can appears 1 times in the lyrics Imagine\n",
      "The word It's appears 1 times in the lyrics Imagine\n",
      "The word or appears 8 times in the lyrics Imagine\n",
      "The word hope appears 2 times in the lyrics Imagine\n",
      "The word all appears 4 times in the lyrics Imagine\n",
      "The word will appears 2 times in the lyrics Imagine\n",
      "The word someday appears 2 times in the lyrics Imagine\n",
      "The word Nothing appears 1 times in the lyrics Imagine\n",
      "The word to appears 4 times in the lyrics Imagine\n",
      "The word too appears 1 times in the lyrics Imagine\n",
      "The word today appears 1 times in the lyrics Imagine\n",
      "The word need appears 1 times in the lyrics Imagine\n",
      "The word Yoo appears 2 times in the lyrics Imagine\n",
      "The word life appears 1 times in the lyrics Imagine\n",
      "The word brotherhood appears 1 times in the lyrics Imagine\n",
      "The word below appears 1 times in the lyrics Imagine\n",
      "The word not appears 2 times in the lyrics Imagine\n",
      "The word possessions appears 1 times in the lyrics Imagine\n",
      "The word I'm appears 4 times in the lyrics Imagine\n",
      "The word try appears 1 times in the lyrics Imagine\n",
      "The word easy appears 1 times in the lyrics Imagine\n",
      "The word as appears 3 times in the lyrics Imagine\n",
      "The word And appears 3 times in the lyrics Imagine\n",
      "The word us appears 4 times in the lyrics Imagine\n",
      "The word people appears 3 times in the lyrics Imagine\n",
      "The word hard appears 1 times in the lyrics Imagine\n",
      "The word Sharing appears 1 times in the lyrics Imagine\n",
      "The word in appears 13 times in the lyrics Imagine\n",
      "The word for appears 3 times in the lyrics Imagine\n",
      "The word sky appears 1 times in the lyrics Imagine\n",
      "The word world appears 3 times in the lyrics Imagine\n",
      "The word only appears 3 times in the lyrics Imagine\n"
     ]
    }
   ],
   "source": [
    "for word in freq:\n",
    "    print(\"The word\", word, \"appears\", freq[word], \"times in the lyrics Imagine\")"
   ]
  },
  {
   "cell_type": "code",
   "execution_count": 24,
   "metadata": {},
   "outputs": [
    {
     "name": "stdout",
     "output_type": "stream",
     "text": [
      "The word \" you'll \" appears 2 times.\n",
      "The word \" the \" appears 11 times.\n",
      "The word \" countries \" appears 1 times.\n",
      "The word \" I \" appears 15 times.\n",
      "The word \" isn't \" appears 1 times.\n",
      "The word \" Living \" appears 2 times.\n",
      "The word \" may \" appears 2 times.\n",
      "The word \" a \" appears 34 times.\n",
      "The word \" greed \" appears 1 times.\n",
      "The word \" say \" appears 2 times.\n",
      "The word \" you \" appears 4 times.\n",
      "The word \" Heaven \" appears 1 times.\n",
      "The word \" hoo \" appears 3 times.\n",
      "The word \" kill \" appears 1 times.\n",
      "The word \" You \" appears 2 times.\n",
      "The word \" No \" appears 3 times.\n",
      "The word \" live \" appears 1 times.\n",
      "The word \" It \" appears 2 times.\n",
      "The word \" wonder \" appears 1 times.\n",
      "The word \" hunger \" appears 1 times.\n",
      "The word \" be \" appears 2 times.\n",
      "The word \" of \" appears 1 times.\n",
      "The word \" there's \" appears 2 times.\n",
      "The word \" Hell \" appears 1 times.\n",
      "The word \" Above \" appears 1 times.\n",
      "The word \" religion \" appears 1 times.\n",
      "The word \" die \" appears 1 times.\n",
      "The word \" one \" appears 4 times.\n",
      "The word \" But \" appears 2 times.\n",
      "The word \" if \" appears 3 times.\n",
      "The word \" haa \" appears 1 times.\n",
      "The word \" do \" appears 1 times.\n",
      "The word \" A \" appears 6 times.\n",
      "The word \" peace \" appears 1 times.\n",
      "The word \" dreamer \" appears 2 times.\n",
      "The word \" man \" appears 1 times.\n",
      "The word \" no \" appears 6 times.\n",
      "The word \" Imagine \" appears 6 times.\n",
      "The word \" join \" appears 2 times.\n",
      "The word \" Aaa \" appears 1 times.\n",
      "The word \" can \" appears 1 times.\n",
      "The word \" It's \" appears 1 times.\n",
      "The word \" or \" appears 8 times.\n",
      "The word \" hope \" appears 2 times.\n",
      "The word \" all \" appears 4 times.\n",
      "The word \" will \" appears 2 times.\n",
      "The word \" someday \" appears 2 times.\n",
      "The word \" Nothing \" appears 1 times.\n",
      "The word \" to \" appears 4 times.\n",
      "The word \" too \" appears 1 times.\n",
      "The word \" today \" appears 1 times.\n",
      "The word \" need \" appears 1 times.\n",
      "The word \" Yoo \" appears 2 times.\n",
      "The word \" life \" appears 1 times.\n",
      "The word \" brotherhood \" appears 1 times.\n",
      "The word \" below \" appears 1 times.\n",
      "The word \" not \" appears 2 times.\n",
      "The word \" possessions \" appears 1 times.\n",
      "The word \" I'm \" appears 4 times.\n",
      "The word \" try \" appears 1 times.\n",
      "The word \" easy \" appears 1 times.\n",
      "The word \" as \" appears 3 times.\n",
      "The word \" And \" appears 3 times.\n",
      "The word \" us \" appears 4 times.\n",
      "The word \" people \" appears 3 times.\n",
      "The word \" hard \" appears 1 times.\n",
      "The word \" Sharing \" appears 1 times.\n",
      "The word \" in \" appears 13 times.\n",
      "The word \" for \" appears 3 times.\n",
      "The word \" sky \" appears 1 times.\n",
      "The word \" world \" appears 3 times.\n",
      "The word \" only \" appears 3 times.\n",
      "The word countries appears 1 times.\n"
     ]
    }
   ],
   "source": [
    "for key, value in freq.items():\n",
    "    print(\"The word\", '\"' ,key, '\"', \"appears\", value, \"times.\")\n",
    "    \n",
    "# for tup in freq.items():\n",
    "#     print(\"The word\", tup[0], \"appears\", tup[1], \"times.\")\n",
    "\n",
    "print(\"The word countries appears\", freq[\"countries\"], \"times.\")"
   ]
  },
  {
   "cell_type": "code",
   "execution_count": 21,
   "metadata": {},
   "outputs": [
    {
     "name": "stdout",
     "output_type": "stream",
     "text": [
      "apple\n",
      "pear\n"
     ]
    }
   ],
   "source": [
    "a, b = [\"apple\", \"pear\"]\n",
    "print(a)\n",
    "print(b)"
   ]
  },
  {
   "cell_type": "code",
   "execution_count": 33,
   "metadata": {},
   "outputs": [
    {
     "name": "stdout",
     "output_type": "stream",
     "text": [
      "The word that appears the most is \" the \" and it is seen 8 times.\n"
     ]
    }
   ],
   "source": [
    "max = 0\n",
    "max_word = \"\"\n",
    "for word in freq:\n",
    "    if freq[word] > max:\n",
    "        max = freq[word]\n",
    "        max_word = word\n",
    "\n",
    "print(\"The word that appears the most is\", '\"',max_word, '\"', \"and it is seen\", max, \"times.\")"
   ]
  },
  {
   "cell_type": "code",
   "execution_count": 28,
   "metadata": {},
   "outputs": [
    {
     "data": {
      "text/plain": [
       "[1, 3, 4]"
      ]
     },
     "execution_count": 28,
     "metadata": {},
     "output_type": "execute_result"
    }
   ],
   "source": [
    "sorted([1,4,3])"
   ]
  },
  {
   "cell_type": "code",
   "execution_count": 32,
   "metadata": {},
   "outputs": [
    {
     "data": {
      "text/plain": [
       "[('the', 8),\n",
       " ('Imagine', 6),\n",
       " ('one', 4),\n",
       " ('no', 4),\n",
       " ('all', 4),\n",
       " (\"I'm\", 4),\n",
       " ('us', 4),\n",
       " ('I', 3),\n",
       " ('And', 3),\n",
       " ('people', 3),\n",
       " ('for', 3),\n",
       " ('world', 3),\n",
       " ('only', 3),\n",
       " (\"you'll\", 2),\n",
       " ('Living', 2),\n",
       " ('may', 2),\n",
       " ('a', 2),\n",
       " ('say', 2),\n",
       " ('you', 2),\n",
       " ('hoo', 2),\n",
       " ('You', 2),\n",
       " ('No', 2),\n",
       " (\"there's\", 2),\n",
       " ('But', 2),\n",
       " ('if', 2),\n",
       " ('dreamer', 2),\n",
       " ('join', 2),\n",
       " ('or', 2),\n",
       " ('hope', 2),\n",
       " ('will', 2),\n",
       " ('someday', 2),\n",
       " ('to', 2),\n",
       " ('Yoo', 2),\n",
       " ('not', 2),\n",
       " ('as', 2),\n",
       " ('countries', 1),\n",
       " (\"isn't\", 1),\n",
       " ('greed', 1),\n",
       " ('Heaven', 1),\n",
       " ('kill', 1),\n",
       " ('live', 1),\n",
       " ('It', 1),\n",
       " ('wonder', 1),\n",
       " ('hunger', 1),\n",
       " ('be', 1),\n",
       " ('of', 1),\n",
       " ('Hell', 1),\n",
       " ('Above', 1),\n",
       " ('religion', 1),\n",
       " ('die', 1),\n",
       " ('haa', 1),\n",
       " ('do', 1),\n",
       " ('A', 1),\n",
       " ('peace', 1),\n",
       " ('man', 1),\n",
       " ('Aaa', 1),\n",
       " ('can', 1),\n",
       " (\"It's\", 1),\n",
       " ('Nothing', 1),\n",
       " ('too', 1),\n",
       " ('today', 1),\n",
       " ('need', 1),\n",
       " ('life', 1),\n",
       " ('brotherhood', 1),\n",
       " ('below', 1),\n",
       " ('possessions', 1),\n",
       " ('try', 1),\n",
       " ('easy', 1),\n",
       " ('hard', 1),\n",
       " ('Sharing', 1),\n",
       " ('in', 1),\n",
       " ('sky', 1)]"
      ]
     },
     "execution_count": 32,
     "metadata": {},
     "output_type": "execute_result"
    }
   ],
   "source": [
    "sorted(freq.items(), key = lambda kv: kv[1], reverse = True)"
   ]
  },
  {
   "cell_type": "code",
   "execution_count": null,
   "metadata": {},
   "outputs": [],
   "source": []
  }
 ],
 "metadata": {
  "kernelspec": {
   "display_name": "Python 3",
   "language": "python",
   "name": "python3"
  },
  "language_info": {
   "codemirror_mode": {
    "name": "ipython",
    "version": 3
   },
   "file_extension": ".py",
   "mimetype": "text/x-python",
   "name": "python",
   "nbconvert_exporter": "python",
   "pygments_lexer": "ipython3",
   "version": "3.6.6"
  }
 },
 "nbformat": 4,
 "nbformat_minor": 2
}
