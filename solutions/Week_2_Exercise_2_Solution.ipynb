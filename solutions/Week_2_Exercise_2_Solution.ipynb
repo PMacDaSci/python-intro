{
 "cells": [
  {
   "cell_type": "markdown",
   "metadata": {},
   "source": [
    "# Week 2 (Extra) Exercise (Conditional + Loops)\n",
    "\n",
    "## Numbers \n",
    "\n",
    "1. Odd Numbers\n",
    "2. Even Numbers\n",
    "3. Fibonacci sequence\n",
    "4. Prime Number\n",
    "5. Multiplication table"
   ]
  },
  {
   "cell_type": "code",
   "execution_count": 1,
   "metadata": {},
   "outputs": [
    {
     "name": "stdout",
     "output_type": "stream",
     "text": [
      "1\n",
      "3\n",
      "5\n",
      "7\n",
      "9\n",
      "11\n",
      "13\n",
      "15\n",
      "17\n",
      "19\n"
     ]
    }
   ],
   "source": [
    "# Odd numbers \n",
    "# Print out the first few odd numbers using for loop\n",
    "# Example Expected Output: 1, 3, 5, 7, 9, 11, 13\n",
    "\n",
    "# Hint:\n",
    "# Pattern: 1, 1 + 2, 1 + 2 + 2, 1 + 2 + 2 + 2, 1 + 2 + 2 + 2, ...\n",
    "# Pattern: 1 + 2 * 0, 1 + 2 * 1, 1 + 2 * 2, ...\n",
    "\n",
    "n = 10\n",
    "\n",
    "for index in range(n):\n",
    "    odd_number = 2*index + 1\n",
    "    print (odd_number)"
   ]
  },
  {
   "cell_type": "code",
   "execution_count": 8,
   "metadata": {},
   "outputs": [
    {
     "name": "stdout",
     "output_type": "stream",
     "text": [
      "2\n",
      "4\n",
      "6\n",
      "8\n",
      "10\n",
      "12\n",
      "14\n",
      "16\n",
      "18\n",
      "20\n"
     ]
    }
   ],
   "source": [
    "# Odd numbers \n",
    "# Print out the first few even numbers using for loop\n",
    "# Example Expected Output: 2, 4, 6, 8, 10, 12\n",
    "\n",
    "# Hint: \n",
    "# Pattern: 2 * 1, 2 * 2, 2 * 3, 2 * 4, 2 * 5, 2 * 6, ...\n",
    "\n",
    "n = 10\n",
    "\n",
    "for index in range(n):\n",
    "    even_number  = 2 * (index +1) \n",
    "    print (even_number)"
   ]
  },
  {
   "cell_type": "code",
   "execution_count": 11,
   "metadata": {},
   "outputs": [
    {
     "name": "stdout",
     "output_type": "stream",
     "text": [
      "1\n",
      "1\n",
      "2\n",
      "3\n",
      "5\n",
      "8\n",
      "13\n",
      "21\n",
      "34\n",
      "55\n"
     ]
    }
   ],
   "source": [
    "# Fibonacci sequence (https://en.wikipedia.org/wiki/Fibonacci_number)\n",
    "# Example of expected Output: 1, 1, 2, 3, 5, 8, 13, 21, 34\n",
    "\n",
    "# Hint:\n",
    "# Pattern: 1, 1, 1+1, 1+2, 2+3, 3+5, 5+8, 8+13, 13+21\n",
    "# Pattern: 1, 1, (PrevNumber) + (PrevPrevNumber), ...\n",
    "\n",
    "n = 10\n",
    "fibo = 1\n",
    "prev = 0\n",
    "temp = 0\n",
    "\n",
    "while (n>0):\n",
    "    print (fibo)\n",
    "    temp = fibo\n",
    "    fibo += prev\n",
    "    prev = temp\n",
    "    n-=1"
   ]
  },
  {
   "cell_type": "code",
   "execution_count": 3,
   "metadata": {},
   "outputs": [
    {
     "name": "stdout",
     "output_type": "stream",
     "text": [
      "16 is not a prime number\n"
     ]
    }
   ],
   "source": [
    "# Prime number\n",
    "# number that can only be divided by 1 and itself\n",
    "\n",
    "# Task: given a_number, find whether that number is a prime number. \n",
    "# Example 1: \n",
    "# a_number = 13\n",
    "# Expected Output = 13 is a prime number\n",
    "# Example 2:\n",
    "# a_number = 16\n",
    "# Expected Output = 16 is not a prime number\n",
    "\n",
    "a_number = 16\n",
    "is_prime = True\n",
    "\n",
    "for other_number in range(2,a_number):\n",
    "    if (a_number % other_number == 0):\n",
    "        is_prime = False\n",
    "        break\n",
    "    \n",
    "if (is_prime):\n",
    "    if (a_number >= 2):\n",
    "        print(a_number, \"is a prime number\")\n",
    "    else:\n",
    "        print(\"it is complicated\")\n",
    "else:\n",
    "    print(a_number, \"is not a prime number\")"
   ]
  },
  {
   "cell_type": "code",
   "execution_count": 4,
   "metadata": {},
   "outputs": [
    {
     "name": "stdout",
     "output_type": "stream",
     "text": [
      "5 x 1 = 5\n",
      "5 x 2 = 10\n",
      "5 x 3 = 15\n",
      "5 x 4 = 20\n",
      "5 x 5 = 25\n",
      "5 x 6 = 30\n",
      "5 x 7 = 35\n",
      "5 x 8 = 40\n",
      "5 x 9 = 45\n",
      "5 x 10 = 50\n"
     ]
    }
   ],
   "source": [
    "# Multiplication table\n",
    "# Print out multiplication table \n",
    "# Example: n = 5\n",
    "# Expected Output:\n",
    "# 5 x 1 = 5\n",
    "# 5 x 2 = 10\n",
    "# 5 x 3 = 15\n",
    "# 5 x 4 = 20\n",
    "# 5 x 5 = 25\n",
    "# 5 x 6 = 30\n",
    "# 5 x 7 = 35\n",
    "# 5 x 8 = 40\n",
    "# 5 x 9 = 45\n",
    "# 5 x 10 = 50\n",
    "\n",
    "n = 5\n",
    "\n",
    "for multiplier in range(10):\n",
    "    mult = n * (multiplier + 1)\n",
    "    print (n, \"x\", (multiplier+1), \"=\", mult)"
   ]
  },
  {
   "cell_type": "code",
   "execution_count": null,
   "metadata": {},
   "outputs": [],
   "source": []
  }
 ],
 "metadata": {
  "kernelspec": {
   "display_name": "Python 3",
   "language": "python",
   "name": "python3"
  },
  "language_info": {
   "codemirror_mode": {
    "name": "ipython",
    "version": 3
   },
   "file_extension": ".py",
   "mimetype": "text/x-python",
   "name": "python",
   "nbconvert_exporter": "python",
   "pygments_lexer": "ipython3",
   "version": "3.6.6"
  }
 },
 "nbformat": 4,
 "nbformat_minor": 2
}
