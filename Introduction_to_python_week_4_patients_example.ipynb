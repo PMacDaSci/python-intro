{
 "cells": [
  {
   "cell_type": "markdown",
   "metadata": {},
   "source": [
    "# Week 4 - Patient Data Example\n",
    "\n",
    "Use case: You have files with data for multiple patients (1 file per patient) and you want to combine the data into one file."
   ]
  },
  {
   "cell_type": "code",
   "execution_count": 62,
   "metadata": {},
   "outputs": [],
   "source": [
    "from glob import glob\n",
    "from csv import DictReader"
   ]
  },
  {
   "cell_type": "code",
   "execution_count": 63,
   "metadata": {},
   "outputs": [],
   "source": [
    "patientIDs = [\"01001\", \"01010\", \"01020\"]\n",
    "dirpath = \"./data/tmp/\""
   ]
  },
  {
   "cell_type": "code",
   "execution_count": 65,
   "metadata": {},
   "outputs": [
    {
     "name": "stdout",
     "output_type": "stream",
     "text": [
      "./data/tmp/*01001*\n",
      "['./data/tmp/patient_01001_C10D1.csv', './data/tmp/patient_01001_C1D1.csv', './data/tmp/patient_01001_C1D15.csv', './data/tmp/patient_01001_C2D1.csv', './data/tmp/patient_01001_C3D1.csv', './data/tmp/patient_01001_C4D1.csv', './data/tmp/patient_01001_C5D1.csv', './data/tmp/patient_01001_C6D1.csv', './data/tmp/patient_01001_C7D1.csv', './data/tmp/patient_01001_C8D1.csv', './data/tmp/patient_01001_C9D1.csv', './data/tmp/patient_01001_EOT.csv', './data/tmp/patient_01001_MNL.csv']\n",
      "./data/tmp/*01010*\n",
      "['./data/tmp/patient_01010_C1D1.csv', './data/tmp/patient_01010_C1D15.csv', './data/tmp/patient_01010_C2D1.csv', './data/tmp/patient_01010_C3D1.csv', './data/tmp/patient_01010_C4D1.csv', './data/tmp/patient_01010_C5D1.csv', './data/tmp/patient_01010_MNL.csv']\n",
      "./data/tmp/*01020*\n",
      "['./data/tmp/patient_01020_C1D1.csv', './data/tmp/patient_01020_C7D1.csv', './data/tmp/patient_01020_MNL.csv']\n"
     ]
    }
   ],
   "source": [
    "# Loop through the patient ID\n",
    "for id in patientIDs:\n",
    "    # Generate the search path\n",
    "    # Note that \"*\" stand for a wildcard (AKA anything)\n",
    "    path = \"\".join([dirpath, \"*\", id, \"*\"])\n",
    "#     print(path) # The \"search\" term we are using for glob\n",
    "    fns = glob(path)\n",
    "#     print(fns) # Prints the full path name to the files\n",
    "    \n",
    "    data = dict() # Initialise an empty dictionary\n",
    "    \n",
    "    # Loop through the files relevant to each patient\n",
    "    for fn in fns:\n",
    "        print(\"Filename:\", fn)\n",
    "        with open(fn, \"r\") as infile:\n",
    "            fh = DictReader(infile)\n",
    "            tmp = next(fh) # Grab the first line to help initial the dictionary\n",
    "            for k,v in tmp.items():\n",
    "                data.update({k: [v]})\n",
    "            # Iterate through the rest of the file and add in the values to the corresponding key\n",
    "            for line in fh:\n",
    "                for k,v in line.items():\n",
    "                    data[k].append(v)\n",
    "#     print(data)\n",
    "    keep = list() # Initialise an empty list for the indexes of the rows we want to keep\n",
    "    for i in range(len(data[\"gene\"])):\n",
    "        if (data[\"gene\"][i] == \"PIK3CA\" and float(data[\"vaf\"][i]) > 5):\n",
    "            keep.append(i)\n",
    "        elif (data[\"gene\"][i] == \"ESR1\" and float(data[\"vaf\"][i]) > 2):\n",
    "            keep.append(i)\n",
    "        elif (float(data[\"vaf\"][i]) > 10):\n",
    "            keep.append(i)\n",
    "    \n",
    "    # Initialise an empty dictionary to store the results\n",
    "    results = dict()\n",
    "    # Note here the key is the column name and the value is a list\n",
    "    for key, value in data.items(): # Iterate through each key, value\n",
    "        for i in keep: # Iterate through the list of indexes that we want to keep\n",
    "            if key not in results: # Check if the column name is in the dictionary, if not:\n",
    "                results[key] = [value[i]] # Initialise the column name as a key and set the value to be a list of the value\n",
    "            else:\n",
    "                results[key].append(value[i]) # If the column name is already in the dictionary then add to the list\n",
    "    \n",
    "    # Write out the results dictionary to a file\n",
    "    with open(\"\".join([\"patient_\", id, \"_allFiltered.csv\"]), \"w\") as outfile:\n",
    "        outfile.write(\",\".join([\"patientID\", \"cycle\", \"gene\", \"vaf\"]) + \"\\n\") # Write out the header\n",
    "        lines = list(zip(results[\"patientID\"], results[\"cycle\"], results[\"gene\"], results[\"vaf\"])) # See example below for how zip works\n",
    "        # Write out each row to the output file\n",
    "        for line in lines:\n",
    "            outfile.write(\",\".join(list(line)) + \"\\n\")\n",
    "                "
   ]
  },
  {
   "cell_type": "code",
   "execution_count": 61,
   "metadata": {},
   "outputs": [
    {
     "data": {
      "text/plain": [
       "[('a', 't'), ('b', 's'), ('c', 'v')]"
      ]
     },
     "execution_count": 61,
     "metadata": {},
     "output_type": "execute_result"
    }
   ],
   "source": [
    "list(zip([1,2,3], [5,6,7,8]))\n",
    "\n",
    "list(zip([\"a\", \"b\", \"c\"], [\"t\", \"s\", \"v\"]))"
   ]
  }
 ],
 "metadata": {
  "kernelspec": {
   "display_name": "Python 3",
   "language": "python",
   "name": "python3"
  },
  "language_info": {
   "codemirror_mode": {
    "name": "ipython",
    "version": 3
   },
   "file_extension": ".py",
   "mimetype": "text/x-python",
   "name": "python",
   "nbconvert_exporter": "python",
   "pygments_lexer": "ipython3",
   "version": "3.6.5"
  }
 },
 "nbformat": 4,
 "nbformat_minor": 2
}
