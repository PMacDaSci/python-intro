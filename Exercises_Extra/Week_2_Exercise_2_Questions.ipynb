{
 "cells": [
  {
   "cell_type": "markdown",
   "metadata": {},
   "source": [
    "# Week 2 Extra Exercise (Conditional + Loops)\n",
    "\n",
    "## Numbers \n",
    "\n",
    "1. Odd Numbers\n",
    "2. Even Numbers\n",
    "3. Fibonacci sequence\n",
    "4. Prime Number\n",
    "5. Multiplication table"
   ]
  },
  {
   "cell_type": "code",
   "execution_count": null,
   "metadata": {},
   "outputs": [],
   "source": [
    "# Odd numbers \n",
    "# Print out the first few odd numbers using for loop\n",
    "# Example Expected Output: 1, 3, 5, 7, 9, 11, 13\n",
    "\n",
    "# Hint:\n",
    "# Pattern: 1, 1 + 2, 1 + 2 + 2, 1 + 2 + 2 + 2, 1 + 2 + 2 + 2, ...\n",
    "# Pattern: 1 + 2 * 0, 1 + 2 * 1, 1 + 2 * 2, ...\n"
   ]
  },
  {
   "cell_type": "code",
   "execution_count": null,
   "metadata": {},
   "outputs": [],
   "source": [
    "# Odd numbers \n",
    "# Print out the first few even numbers using for loop\n",
    "# Example Expected Output: 2, 4, 6, 8, 10, 12\n",
    "\n",
    "# Hint: \n",
    "# Pattern: 2 * 1, 2 * 2, 2 * 3, 2 * 4, 2 * 5, 2 * 6, ...\n"
   ]
  },
  {
   "cell_type": "code",
   "execution_count": null,
   "metadata": {},
   "outputs": [],
   "source": [
    "# Fibonacci sequence (https://en.wikipedia.org/wiki/Fibonacci_number)\n",
    "# Example of expected Output: 1, 1, 2, 3, 5, 8, 13, 21, 34\n",
    "\n",
    "# Hint:\n",
    "# Pattern: 1, 1, 1+1, 1+2, 2+3, 3+5, 5+8, 8+13, 13+21\n",
    "# Pattern: 1, 1, (PrevNumber) + (PrevPrevNumber), ...\n"
   ]
  },
  {
   "cell_type": "code",
   "execution_count": null,
   "metadata": {},
   "outputs": [],
   "source": [
    "# Prime number\n",
    "# number that can only be divided by 1 and itself\n",
    "\n",
    "# Task: given a_number, find whether that number is a prime number. \n",
    "# Example 1: \n",
    "# a_number = 13\n",
    "# Expected Output = 13 is a prime number\n",
    "# Example 2:\n",
    "# a_number = 16\n",
    "# Expected Output = 16 is not a prime number\n"
   ]
  },
  {
   "cell_type": "code",
   "execution_count": null,
   "metadata": {},
   "outputs": [],
   "source": [
    "# Multiplication table\n",
    "# Print out multiplication table \n",
    "# Example: n = 5\n",
    "# Expected Output:\n",
    "# 5 x 1 = 5\n",
    "# 5 x 2 = 10\n",
    "# 5 x 3 = 15\n",
    "# 5 x 4 = 20\n",
    "# 5 x 5 = 25\n",
    "# 5 x 6 = 30\n",
    "# 5 x 7 = 35\n",
    "# 5 x 8 = 40\n",
    "# 5 x 9 = 45\n",
    "# 5 x 10 = 50"
   ]
  },
  {
   "cell_type": "code",
   "execution_count": null,
   "metadata": {},
   "outputs": [],
   "source": []
  }
 ],
 "metadata": {
  "kernelspec": {
   "display_name": "Python 3",
   "language": "python",
   "name": "python3"
  },
  "language_info": {
   "codemirror_mode": {
    "name": "ipython",
    "version": 3
   },
   "file_extension": ".py",
   "mimetype": "text/x-python",
   "name": "python",
   "nbconvert_exporter": "python",
   "pygments_lexer": "ipython3",
   "version": "3.6.5"
  }
 },
 "nbformat": 4,
 "nbformat_minor": 2
}
