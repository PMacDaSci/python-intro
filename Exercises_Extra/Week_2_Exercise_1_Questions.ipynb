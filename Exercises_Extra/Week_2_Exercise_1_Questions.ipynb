{
 "cells": [
  {
   "cell_type": "markdown",
   "metadata": {},
   "source": [
    "# Week 2 Extra Exercise 1 (Conditional + Loops)\n",
    "\n",
    "## List \n",
    "\n",
    "1. Remove item from list repetitively \n",
    "2. Working with two lists\n",
    "3. Filtering item from list/dict\n",
    "4. Replace words from string\n",
    "5. Count vowels and consonants in a string"
   ]
  },
  {
   "cell_type": "code",
   "execution_count": 1,
   "metadata": {},
   "outputs": [],
   "source": [
    "# Q1. Remove item from list\n",
    "\n",
    "my_list = [\"apple\", \"banana\", \"cat\", \"pear\", \"strawberry\", \"cat\", \"orange\", \"cat\"]\n",
    "\n",
    "# Remove all cats from my fruit list\n",
    "# Expected Output: ['apple', 'banana', 'pear', 'strawberry', 'orange']\n"
   ]
  },
  {
   "cell_type": "code",
   "execution_count": 2,
   "metadata": {},
   "outputs": [],
   "source": [
    "# Q2. Working with two lists\n",
    "\n",
    "list_1 = [\"my\", \"your\", \"his\", \"her\"]\n",
    "list_2 = [\"wallet\", \"phone\", \"book\", \"laptop\"]\n",
    "\n",
    "# Create list_3 to combine string list_1 and list_2 with loop\n",
    "# Expected Output = [\"my wallet\", \"your phone\", \"his book\", \"her laptop\"]\n",
    "\n"
   ]
  },
  {
   "cell_type": "code",
   "execution_count": 3,
   "metadata": {},
   "outputs": [],
   "source": [
    "# Q3. Filtering item from dict\n",
    "\n",
    "fruit_price = {\"apple\":5, \"banana\":3, \"pear\":2, \"strawberry\":2, \"orange\":1}\n",
    "\n",
    "# Print out fruit that are cheaper than $3\n",
    "# Expected Output: ['pear', 'strawberry', 'orange']\n"
   ]
  },
  {
   "cell_type": "code",
   "execution_count": 4,
   "metadata": {},
   "outputs": [],
   "source": [
    "# Q4. Replace words from string\n",
    "# Replace \"Alice\" in the story with your/some other name\n",
    "\n",
    "story = \"Alice was beginning to get very tired of sitting by her sister on the bank, and of having nothing to do: once or twice she had peeped into the book her sister was reading, but it had no pictures or conversations in it, `and what is the use of a book,' thought Alice `without pictures or conversation?'\"\n",
    "\n",
    "# Expected Output:\n",
    "# \"Amy was beginning to get very tired of sitting by her sister on the bank, and of having nothing to do: once or twice she had peeped into the book her sister was reading, but it had no pictures or conversations in it, `and what is the use of a book,' thought Amy `without pictures or conversation?'\"\n"
   ]
  },
  {
   "cell_type": "code",
   "execution_count": 5,
   "metadata": {},
   "outputs": [],
   "source": [
    "# Q5. Count number of vowels in a string\n",
    "\n",
    "story = \"Alice was beginning to get very tired of sitting by her sister on the bank, and of having nothing to do: once or twice she had peeped into the book her sister was reading, but it had no pictures or conversations in it, `and what is the use of a book,' thought Alice `without pictures or conversation?'\"\n",
    "\n",
    "# Expected Output\n",
    "# Vowels = 91\n",
    "\n"
   ]
  }
 ],
 "metadata": {
  "kernelspec": {
   "display_name": "Python 3",
   "language": "python",
   "name": "python3"
  },
  "language_info": {
   "codemirror_mode": {
    "name": "ipython",
    "version": 3
   },
   "file_extension": ".py",
   "mimetype": "text/x-python",
   "name": "python",
   "nbconvert_exporter": "python",
   "pygments_lexer": "ipython3",
   "version": "3.6.5"
  }
 },
 "nbformat": 4,
 "nbformat_minor": 2
}
