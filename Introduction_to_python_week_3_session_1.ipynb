{
 "cells": [
  {
   "cell_type": "markdown",
   "metadata": {
    "slideshow": {
     "slide_type": "slide"
    }
   },
   "source": [
    "# An introduction to solving biological problems with Python\n",
    "\n",
    "## Week 3 - Session 1: Recap\n",
    "\n",
    "- Simple data types, Collections\n",
    "- Conditional execution\n",
    "- Loops\n",
    "- Functions used so far..."
   ]
  },
  {
   "cell_type": "markdown",
   "metadata": {
    "slideshow": {
     "slide_type": "slide"
    }
   },
   "source": [
    "## Collections"
   ]
  },
  {
   "cell_type": "code",
   "execution_count": 10,
   "metadata": {
    "slideshow": {
     "slide_type": "subslide"
    }
   },
   "outputs": [
    {
     "name": "stdout",
     "output_type": "stream",
     "text": [
      "A list: [2, 3, 4, 5]\n",
      "First element of list: 2\n",
      "Appended list: [2, 3, 4, 5, 12]\n",
      "Modified list: [45, 3, 4, 5, 12]\n"
     ]
    }
   ],
   "source": [
    "## List\n",
    "example_list = [2, 3, 4, 5]\n",
    "print('A list:', example_list)\n",
    "print('First element of list:', example_list[0])\n",
    "example_list.append(12)\n",
    "print('Appended list:', example_list)\n",
    "example_list[0] = 45\n",
    "print('Modified list:', example_list)"
   ]
  },
  {
   "cell_type": "code",
   "execution_count": 11,
   "metadata": {
    "slideshow": {
     "slide_type": "subslide"
    }
   },
   "outputs": [
    {
     "name": "stdout",
     "output_type": "stream",
     "text": [
      "Here is a string: ATGTCATTT\n",
      "First character: A\n",
      "Number of characters in text 9\n"
     ]
    }
   ],
   "source": [
    "## String\n",
    "text = \"ATGTCATTT\"\n",
    "print('Here is a string:', text)\n",
    "print('First character:', text[0])\n",
    "print('Number of characters in text', len(text))"
   ]
  },
  {
   "cell_type": "code",
   "execution_count": 12,
   "metadata": {
    "slideshow": {
     "slide_type": "subslide"
    }
   },
   "outputs": [
    {
     "name": "stdout",
     "output_type": "stream",
     "text": [
      "A dictionary: {'A': 'Adenine', 'C': 'Cytosine', 'G': 'Guanine', 'T': 'Thymine'}\n",
      "Value associated to key C: Cytosine\n"
     ]
    }
   ],
   "source": [
    "## Dictionary\n",
    "example_dictionary = {\"A\": \"Adenine\", \n",
    "                      \"C\": \"Cytosine\", \n",
    "                      \"G\": \"Guanine\", \n",
    "                      \"T\": \"Thymine\"}\n",
    "print('A dictionary:', example_dictionary)\n",
    "print('Value associated to key C:', example_dictionary['C'])"
   ]
  },
  {
   "cell_type": "markdown",
   "metadata": {
    "slideshow": {
     "slide_type": "slide"
    }
   },
   "source": [
    "## Conditional execution"
   ]
  },
  {
   "cell_type": "code",
   "execution_count": 13,
   "metadata": {},
   "outputs": [
    {
     "name": "stdout",
     "output_type": "stream",
     "text": [
      "Is 2 < 5? True\n",
      "Is 2 == 5? False\n",
      "Is 2 < 5 and 2 > 1? True\n",
      "x is equal to 2\n"
     ]
    }
   ],
   "source": [
    "x = 2\n",
    "print('Is 2 < 5?', x < 5)\n",
    "print('Is 2 == 5?', x == 5)\n",
    "print('Is 2 < 5 and 2 > 1?', (x < 5) & (x > 1))\n",
    "\n",
    "if x == 2:\n",
    "    print('x is equal to 2')"
   ]
  },
  {
   "cell_type": "markdown",
   "metadata": {
    "slideshow": {
     "slide_type": "slide"
    }
   },
   "source": [
    "## Loops"
   ]
  },
  {
   "cell_type": "code",
   "execution_count": 14,
   "metadata": {
    "slideshow": {
     "slide_type": "-"
    }
   },
   "outputs": [
    {
     "name": "stdout",
     "output_type": "stream",
     "text": [
      "The element in list is: A\n",
      "The element in list is: C\n",
      "The element in list is: A\n",
      "The element in list is: T\n",
      "The element in list is: G\n"
     ]
    }
   ],
   "source": [
    "example_list = ['A', 'C', 'A', 'T', 'G']\n",
    "\n",
    "## Looping through a list\n",
    "for element in example_list:\n",
    "    print(\"The element in list is:\", element)"
   ]
  },
  {
   "cell_type": "code",
   "execution_count": 15,
   "metadata": {
    "slideshow": {
     "slide_type": "subslide"
    }
   },
   "outputs": [
    {
     "name": "stdout",
     "output_type": "stream",
     "text": [
      "The index in loop is 0 and its corresponding element is in the list A\n",
      "The index in loop is 1 and its corresponding element is in the list C\n",
      "The index in loop is 2 and its corresponding element is in the list A\n",
      "The index in loop is 3 and its corresponding element is in the list T\n",
      "The index in loop is 4 and its corresponding element is in the list G\n"
     ]
    }
   ],
   "source": [
    "example_list = ['A', 'C', 'A', 'T', 'G']\n",
    "\n",
    "## Looping through list of indices using range() method\n",
    "for index in range(len(example_list)):\n",
    "    print(\"The index in loop is\", index, 'and its corresponding element is in the list', example_list[index])"
   ]
  },
  {
   "cell_type": "code",
   "execution_count": 16,
   "metadata": {
    "slideshow": {
     "slide_type": "subslide"
    }
   },
   "outputs": [
    {
     "name": "stdout",
     "output_type": "stream",
     "text": [
      "A found, the corresponding value is Adenine for item at position 0\n",
      "Other value for item at position 1\n",
      "A found, the corresponding value is Adenine for item at position 2\n",
      "T found, the corresponding value is Thymine for item at position 3\n",
      "Other value for item at position 4\n"
     ]
    }
   ],
   "source": [
    "## Looping using enumerate()\n",
    "example_list = ['A', 'C', 'A', 'T', 'G']\n",
    "example_dictionary = {\"A\": \"Adenine\", \"C\": \"Cytosine\", \"G\": \"Guanine\", \"T\": \"Thymine\"}\n",
    "\n",
    "for index, value in enumerate(example_list):\n",
    "    if value == 'A':\n",
    "        print(value, \"found, the corresponding value is\", example_dictionary[value], 'for item at position', index)\n",
    "    elif value == 'T':\n",
    "        print(value, \"found, the corresponding value is\", example_dictionary[value], 'for item at position', index)\n",
    "    else:\n",
    "        print(\"Other value\", 'for item at position', index)"
   ]
  },
  {
   "cell_type": "markdown",
   "metadata": {
    "slideshow": {
     "slide_type": "slide"
    }
   },
   "source": [
    "## Functions used so far..."
   ]
  },
  {
   "cell_type": "code",
   "execution_count": 17,
   "metadata": {},
   "outputs": [
    {
     "name": "stdout",
     "output_type": "stream",
     "text": [
      "There are 5 elements in the list ['A', 'C', 'A', 'T', 'G']\n",
      "['ATG', 'TCA', 'CCG', 'GGC']\n"
     ]
    }
   ],
   "source": [
    "example_list = ['A', 'C', 'A', 'T', 'G']\n",
    "print('There are', len(example_list), 'elements in the list', example_list)\n",
    "print(\"ATG TCA CCG GGC\".split())"
   ]
  },
  {
   "cell_type": "markdown",
   "metadata": {
    "slideshow": {
     "slide_type": "slide"
    }
   },
   "source": [
    "## Exercise 3.1.1\n",
    "\n",
    "- Create a string variable with the lyrics of Imagine by John Lennon, 1971. \n",
    "- Split into words.\n",
    "- Print the total number of words, and the number of unique words. \n",
    "- Calculate the frequency of each word and store the result into a dictionary. \n",
    "- Print each unique word along with its frequency. \n",
    "- Find the most frequent word in the song, print it with its frequency.\n",
    "\n",
    "<center><img src=\"https://upload.wikimedia.org/wikipedia/en/1/1d/John_Lennon_-_Imagine_John_Lennon.jpg\"/></center>"
   ]
  },
  {
   "cell_type": "code",
   "execution_count": 18,
   "metadata": {
    "slideshow": {
     "slide_type": "subslide"
    }
   },
   "outputs": [],
   "source": [
    "lyrics = \"\"\"\n",
    "Imagine there's no Heaven\n",
    "It's easy if you try\n",
    "No Hell below us\n",
    "Above us only sky\n",
    "\n",
    "Imagine all the people\n",
    "Living for today\n",
    "Aaa haa\n",
    "\n",
    "Imagine there's no countries\n",
    "It isn't hard to do\n",
    "Nothing to kill or die for\n",
    "And no religion too\n",
    "\n",
    "Imagine all the people\n",
    "Living life in peace\n",
    "Yoo hoo\n",
    "\n",
    "You may say I'm a dreamer\n",
    "But I'm not the only one\n",
    "I hope someday you'll join us\n",
    "And the world will be as one\n",
    "\n",
    "Imagine no possessions\n",
    "I wonder if you can\n",
    "No need for greed or hunger\n",
    "A brotherhood of man\n",
    "\n",
    "Imagine all the people\n",
    "Sharing all the world\n",
    "Yoo hoo\n",
    "\n",
    "You may say I'm a dreamer\n",
    "But I'm not the only one\n",
    "I hope someday you'll join us\n",
    "And the world will live as one\n",
    "\"\"\""
   ]
  },
  {
   "cell_type": "markdown",
   "metadata": {
    "slideshow": {
     "slide_type": "slide"
    }
   },
   "source": [
    "## Next session\n",
    "\n",
    "Go to our next notebook: [Introduction_to_python_week_3_session_2](Introduction_to_python_week_3_session_2.ipynb)"
   ]
  }
 ],
 "metadata": {
  "celltoolbar": "Slideshow",
  "kernelspec": {
   "display_name": "Python 3",
   "language": "python",
   "name": "python3"
  },
  "language_info": {
   "codemirror_mode": {
    "name": "ipython",
    "version": 3
   },
   "file_extension": ".py",
   "mimetype": "text/x-python",
   "name": "python",
   "nbconvert_exporter": "python",
   "pygments_lexer": "ipython3",
   "version": "3.6.5"
  }
 },
 "nbformat": 4,
 "nbformat_minor": 1
}
