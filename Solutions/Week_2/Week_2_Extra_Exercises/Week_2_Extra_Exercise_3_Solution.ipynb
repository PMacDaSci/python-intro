{
 "cells": [
  {
   "cell_type": "markdown",
   "metadata": {},
   "source": [
    "# Week 2 Extra Exercise (Conditional + Loops)\n",
    "\n",
    "## Drawings with For Loop\n",
    "\n"
   ]
  },
  {
   "cell_type": "raw",
   "metadata": {},
   "source": [
    "Draw the following:\n",
    "\n",
    "*\n",
    "**\n",
    "***\n",
    "****\n",
    "*****"
   ]
  },
  {
   "cell_type": "code",
   "execution_count": 1,
   "metadata": {},
   "outputs": [
    {
     "name": "stdout",
     "output_type": "stream",
     "text": [
      "*\n",
      "**\n",
      "***\n",
      "****\n",
      "*****\n",
      "******\n",
      "*******\n",
      "********\n",
      "*********\n",
      "**********\n",
      "\n"
     ]
    }
   ],
   "source": [
    "# Q1 Solution\n",
    "# Works for any number 'n'\n",
    "\n",
    "n = 10\n",
    "star=\"\"\n",
    "\n",
    "for row in range(1, n+1):\n",
    "    for col in range(row):\n",
    "        star += \"*\"\n",
    "    star+=\"\\n\"  \n",
    "    \n",
    "print (star)    "
   ]
  },
  {
   "cell_type": "raw",
   "metadata": {},
   "source": [
    "Draw the following:\n",
    "\n",
    "*****\n",
    "****\n",
    "***\n",
    "**\n",
    "*"
   ]
  },
  {
   "cell_type": "code",
   "execution_count": 2,
   "metadata": {},
   "outputs": [
    {
     "name": "stdout",
     "output_type": "stream",
     "text": [
      "*****\n",
      "****\n",
      "***\n",
      "**\n",
      "*\n",
      "\n"
     ]
    }
   ],
   "source": [
    "# Q2 Solution\n",
    "\n",
    "n = 5\n",
    "star=\"\"\n",
    "\n",
    "for row in range(n,0,-1):\n",
    "    for col in range(row):\n",
    "        star += \"*\"\n",
    "    star+=\"\\n\"  \n",
    "    \n",
    "print (star)    "
   ]
  },
  {
   "cell_type": "raw",
   "metadata": {},
   "source": [
    "Draw the following:\n",
    "\n",
    "*****\n",
    " ****\n",
    "  ***\n",
    "   **\n",
    "    *    "
   ]
  },
  {
   "cell_type": "code",
   "execution_count": 3,
   "metadata": {},
   "outputs": [
    {
     "name": "stdout",
     "output_type": "stream",
     "text": [
      "*****\n",
      " ****\n",
      "  ***\n",
      "   **\n",
      "    *\n",
      "\n"
     ]
    }
   ],
   "source": [
    "# Q3 Solution\n",
    "\n",
    "n = 5\n",
    "star=\"\"\n",
    "\n",
    "for row in range(1, n+1):\n",
    "    for col in range(1,n+1):\n",
    "        if col >= row:\n",
    "            star += \"*\"\n",
    "        else:\n",
    "            star += \" \"\n",
    "    star+=\"\\n\"  \n",
    "    \n",
    "print (star)    "
   ]
  },
  {
   "cell_type": "raw",
   "metadata": {},
   "source": [
    "Draw the following:\n",
    "\n",
    "     *\n",
    "    **\n",
    "   ***\n",
    "  ****\n",
    " *****\n",
    "******"
   ]
  },
  {
   "cell_type": "code",
   "execution_count": 16,
   "metadata": {},
   "outputs": [
    {
     "name": "stdout",
     "output_type": "stream",
     "text": [
      "     *\n",
      "    **\n",
      "   ***\n",
      "  ****\n",
      " *****\n",
      "******\n",
      "\n"
     ]
    }
   ],
   "source": [
    "# Q4 Solution\n",
    "\n",
    "n = 6\n",
    "star=\"\"\n",
    "\n",
    "for row in range(1, n+1):\n",
    "    for col in range(1,n+1):\n",
    "        if (row+col) > n:\n",
    "            star += \"*\"\n",
    "        else:\n",
    "            star += \" \"\n",
    "    star+=\"\\n\"  \n",
    "    \n",
    "print (star)    "
   ]
  }
 ],
 "metadata": {
  "kernelspec": {
   "display_name": "Python 3",
   "language": "python",
   "name": "python3"
  },
  "language_info": {
   "codemirror_mode": {
    "name": "ipython",
    "version": 3
   },
   "file_extension": ".py",
   "mimetype": "text/x-python",
   "name": "python",
   "nbconvert_exporter": "python",
   "pygments_lexer": "ipython3",
   "version": "3.6.5"
  }
 },
 "nbformat": 4,
 "nbformat_minor": 2
}
