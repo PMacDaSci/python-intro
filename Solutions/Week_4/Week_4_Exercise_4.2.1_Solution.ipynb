{
 "cells": [
  {
   "cell_type": "markdown",
   "metadata": {},
   "source": [
    "# Week 4 - Exercise 4.1.1 \n",
    "\n",
    "## Filtering TSV Files\n",
    "\n",
    "Use Case: You need to filter a large file of variants that's too big to open in Excel or R.\n",
    "\n",
    "Write a script that reads in the variant data/test1_example1.tsv file and writes out just the Passed variants that have quality >= 50 to a new tab-separated file. Hint: use the Filter and Qual columns"
   ]
  },
  {
   "cell_type": "code",
   "execution_count": 7,
   "metadata": {},
   "outputs": [],
   "source": [
    "filename = \"test1_example1.tsv\"\n",
    "# output filename\n",
    "fileout = \"test1_example1_filtered.tsv\"\n",
    "out = open(fileout, \"w\")\n",
    "\n",
    "# open filename\n",
    "with open(filename) as infile:\n",
    "    for line in infile:\n",
    "        if line.startswith(\"#\"): #HEADER\n",
    "            header = line.strip().split()\n",
    "            qual_idx = header.index(\"QUAL\")\n",
    "            filt_idx = header.index(\"FILTER\")\n",
    "            out.write(line)\n",
    "            continue\n",
    "            \n",
    "        columns = line.strip().split()\n",
    "        qual    = float(columns[qual_idx])\n",
    "        filt    = columns[filt_idx]\n",
    "        \n",
    "        if (qual >= 50) and (filt == \"PASS\"):\n",
    "            out.write(line)\n",
    "out.close()\n"
   ]
  }
 ],
 "metadata": {
  "kernelspec": {
   "display_name": "Python 3",
   "language": "python",
   "name": "python3"
  },
  "language_info": {
   "codemirror_mode": {
    "name": "ipython",
    "version": 3
   },
   "file_extension": ".py",
   "mimetype": "text/x-python",
   "name": "python",
   "nbconvert_exporter": "python",
   "pygments_lexer": "ipython3",
   "version": "3.6.5"
  }
 },
 "nbformat": 4,
 "nbformat_minor": 2
}
