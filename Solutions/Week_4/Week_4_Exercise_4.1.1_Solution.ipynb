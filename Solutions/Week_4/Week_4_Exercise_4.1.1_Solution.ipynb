{
 "cells": [
  {
   "cell_type": "markdown",
   "metadata": {},
   "source": [
    "# Week 4 - Exercise 4.2.1\n",
    "\n",
    "## Combining Multiple Files \n",
    "\n",
    "Use case: You have 2000 files from TCGA with gene expression counts for patients (1 file per patient). You need to combine them into a single table of counts with a column for each patient. \n",
    "\n",
    "The count files are in data/patients/counts.zip (you will need to unzip the file) and the expected output is in the file data/patients/counts_output/combined_counts.tsv"
   ]
  },
  {
   "cell_type": "code",
   "execution_count": null,
   "metadata": {},
   "outputs": [],
   "source": [
    "file1 = \"data/patients/counts/Patient_0.counts\"\n",
    "with open(file1) as infile:\n",
    "    for line in infile:\n",
    "        print (line)"
   ]
  },
  {
   "cell_type": "code",
   "execution_count": null,
   "metadata": {},
   "outputs": [],
   "source": [
    "from glob import glob\n",
    "for filenames in glob(\"data/patients/counts/Patient_*.counts\"):\n",
    "    print (filenames)"
   ]
  },
  {
   "cell_type": "code",
   "execution_count": 8,
   "metadata": {},
   "outputs": [],
   "source": [
    "# Import libraries\n",
    "from glob import glob\n",
    "import os\n",
    "\n",
    "# Create patient_data dictionary to hold all your data\n",
    "patient_data = {'patient_id':[], 'gene_count':{}}\n",
    "\n",
    "# Use glob to get all filenames\n",
    "# For each file, open file\n",
    "directory = \"data/patients/counts/Patient_*.counts\"\n",
    "for filename in glob(directory):\n",
    "    with open(filename) as f:\n",
    "        # Extract patient_id from filename\n",
    "        patient_id = os.path.splitext(os.path.basename(filename))[0]\n",
    "        \n",
    "        # Add patient_id to patient_data dictionary\n",
    "        patient_data['patient_id'].append(patient_id)\n",
    "        \n",
    "        #print(patient_data)\n",
    "        # For each gene in the file, extract the counts\n",
    "        # and append it to patient_data['gene_counts'][gene]\n",
    "        for gene in f:\n",
    "            gene_info = gene.strip().split(\"\\t\")\n",
    "            gene_name = gene_info[0]\n",
    "            gene_count = gene_info[1]\n",
    "            \n",
    "            # if gene not in dictionary\n",
    "            if gene_name not in patient_data['gene_count']:\n",
    "                # create a new list \n",
    "                patient_data['gene_count'][gene_name] = []\n",
    "                \n",
    "            # append count to the above list \n",
    "            patient_data['gene_count'][gene_name].append(gene_count)\n",
    "        \n",
    "        #print (patient_data)\n",
    "            \n",
    "# Once patient_data is fully populated, write patient_data to an output file\n",
    "out = open(\"combined_counts.tsv\", \"w\")\n",
    "\n",
    "# Write header\n",
    "out.write(\"\\t\".join([\"GeneName\"] + patient_data[\"patient_id\"]) + \"\\n\")\n",
    "\n",
    "# Write gene counts\n",
    "for gene in patient_data[\"gene_count\"]:\n",
    "    out.write(\"\\t\".join([gene] + patient_data[\"gene_count\"][gene]) + \"\\n\")\n",
    "    \n",
    "# Close file\n",
    "out.close()"
   ]
  }
 ],
 "metadata": {
  "kernelspec": {
   "display_name": "Python 3",
   "language": "python",
   "name": "python3"
  },
  "language_info": {
   "codemirror_mode": {
    "name": "ipython",
    "version": 3
   },
   "file_extension": ".py",
   "mimetype": "text/x-python",
   "name": "python",
   "nbconvert_exporter": "python",
   "pygments_lexer": "ipython3",
   "version": "3.6.5"
  }
 },
 "nbformat": 4,
 "nbformat_minor": 2
}
