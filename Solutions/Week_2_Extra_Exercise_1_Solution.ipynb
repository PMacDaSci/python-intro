{
 "cells": [
  {
   "cell_type": "markdown",
   "metadata": {},
   "source": [
    "# Week 2 Extra Exercise (Conditional + Loops)\n",
    "\n",
    "## List \n",
    "\n",
    "1. Remove item from list repetitively \n",
    "2. Working with two lists\n",
    "3. Filtering item from list/dict\n",
    "4. Replace words from string\n",
    "5. Count vowels and consonants in a string"
   ]
  },
  {
   "cell_type": "code",
   "execution_count": 8,
   "metadata": {},
   "outputs": [
    {
     "name": "stdout",
     "output_type": "stream",
     "text": [
      "['apple', 'banana', 'pear', 'strawberry', 'orange']\n"
     ]
    }
   ],
   "source": [
    "# Q1. Remove item from list\n",
    "\n",
    "my_list = [\"apple\", \"banana\", \"cat\", \"pear\", \"strawberry\", \"cat\", \"orange\", \"cat\"]\n",
    "\n",
    "# Remove all cats from my fruit list\n",
    "\n",
    "while (\"cat\" in my_list):\n",
    "    my_list.remove(\"cat\")\n",
    "    \n",
    "print(my_list)    "
   ]
  },
  {
   "cell_type": "code",
   "execution_count": 11,
   "metadata": {},
   "outputs": [
    {
     "name": "stdout",
     "output_type": "stream",
     "text": [
      "['my wallet', 'your phone', 'his book', 'her laptop']\n"
     ]
    }
   ],
   "source": [
    "# Q2. Working with two lists\n",
    "\n",
    "list_1 = [\"my\", \"your\", \"his\", \"her\"]\n",
    "list_2 = [\"wallet\", \"phone\", \"book\", \"laptop\"]\n",
    "\n",
    "# Create list_3 to combine string list_1 and list_2 with loop\n",
    "# Expected Output = [\"my wallet\", \"your phone\", \"his book\", \"her laptop\"]\n",
    "\n",
    "list_3 = []\n",
    "for index in range(len(list_1)):\n",
    "    list_3.append(\" \".join([list_1[index],list_2[index]]))\n",
    "\n",
    "print(list_3)"
   ]
  },
  {
   "cell_type": "code",
   "execution_count": 12,
   "metadata": {},
   "outputs": [
    {
     "name": "stdout",
     "output_type": "stream",
     "text": [
      "['pear', 'strawberry', 'orange']\n"
     ]
    }
   ],
   "source": [
    "# Q3. Filtering item from dict\n",
    "\n",
    "fruit_price = {\"apple\":5, \"banana\":3, \"pear\":2, \"strawberry\":2, \"orange\":1}\n",
    "\n",
    "# Print out fruit that are cheaper than $3\n",
    "# Expected Output: ['pear', 'strawberry', 'orange']\n",
    "cheap_fruits = []\n",
    "for fruit in fruit_price:\n",
    "    if fruit_price[fruit] < 3:\n",
    "        cheap_fruits.append(fruit)\n",
    "        \n",
    "print (cheap_fruits)        \n"
   ]
  },
  {
   "cell_type": "code",
   "execution_count": 14,
   "metadata": {},
   "outputs": [
    {
     "name": "stdout",
     "output_type": "stream",
     "text": [
      "Amy was beginning to get very tired of sitting by her sister on the bank, and of having nothing to do: once or twice she had peeped into the book her sister was reading, but it had no pictures or conversations in it, `and what is the use of a book,' thought Amy `without pictures or conversation?'\n"
     ]
    }
   ],
   "source": [
    "# Q4. Replace words from string\n",
    "# Replace \"Alice\" in the story with your/some other name\n",
    "\n",
    "story = \"Alice was beginning to get very tired of sitting by her sister on the bank, and of having nothing to do: once or twice she had peeped into the book her sister was reading, but it had no pictures or conversations in it, `and what is the use of a book,' thought Alice `without pictures or conversation?'\"\n",
    "\n",
    "# Expected Output:\n",
    "# \"Amy was beginning to get very tired of sitting by her sister on the bank, and of having nothing to do: once or twice she had peeped into the book her sister was reading, but it had no pictures or conversations in it, `and what is the use of a book,' thought Amy `without pictures or conversation?'\"\n",
    "\n",
    "new_name = \"Amy\"\n",
    "new_story = []\n",
    "for word in story.strip().split():\n",
    "    if word == \"Alice\":\n",
    "        word = new_name\n",
    "        \n",
    "    new_story.append(word)\n",
    "    \n",
    "print (\" \".join(new_story))    \n"
   ]
  },
  {
   "cell_type": "code",
   "execution_count": 16,
   "metadata": {},
   "outputs": [
    {
     "name": "stdout",
     "output_type": "stream",
     "text": [
      "91\n"
     ]
    }
   ],
   "source": [
    "# Q5. Count number of vowels in a string\n",
    "\n",
    "story = \"Alice was beginning to get very tired of sitting by her sister on the bank, and of having nothing to do: once or twice she had peeped into the book her sister was reading, but it had no pictures or conversations in it, `and what is the use of a book,' thought Alice `without pictures or conversation?'\"\n",
    "\n",
    "# Expected Output\n",
    "# Vowels = 91\n",
    "\n",
    "count=0\n",
    "for alphabets in story:\n",
    "    if alphabets in ['a','e','i','o','u']:\n",
    "        count += 1\n",
    "        \n",
    "print (count)        "
   ]
  },
  {
   "cell_type": "code",
   "execution_count": null,
   "metadata": {},
   "outputs": [],
   "source": []
  }
 ],
 "metadata": {
  "kernelspec": {
   "display_name": "Python 3",
   "language": "python",
   "name": "python3"
  },
  "language_info": {
   "codemirror_mode": {
    "name": "ipython",
    "version": 3
   },
   "file_extension": ".py",
   "mimetype": "text/x-python",
   "name": "python",
   "nbconvert_exporter": "python",
   "pygments_lexer": "ipython3",
   "version": "3.6.5"
  }
 },
 "nbformat": 4,
 "nbformat_minor": 2
}
