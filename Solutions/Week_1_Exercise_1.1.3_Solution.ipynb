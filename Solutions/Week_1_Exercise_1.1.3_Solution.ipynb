{
 "cells": [
  {
   "cell_type": "markdown",
   "metadata": {},
   "source": [
    "# Week 1 Exercise 1.1.3"
   ]
  },
  {
   "cell_type": "code",
   "execution_count": 1,
   "metadata": {},
   "outputs": [
    {
     "name": "stdout",
     "output_type": "stream",
     "text": [
      "DNA sequence of SYLYC: TCTTATCTTTATTGT\n"
     ]
    }
   ],
   "source": [
    "# Experimenting with python variables in a file\n",
    "\n",
    "S = \"TCT\"\n",
    "L = \"CTT\"\n",
    "Y = \"TAT\"\n",
    "C = \"TGT\"\n",
    "\n",
    "# possible DNA sequence for the protein sequence SYLYC\n",
    "dna = S + Y + L + Y + C\n",
    "\n",
    "# print the DNA sequence\n",
    "print(\"DNA sequence of SYLYC:\", dna)"
   ]
  }
 ],
 "metadata": {
  "kernelspec": {
   "display_name": "Python 3",
   "language": "python",
   "name": "python3"
  },
  "language_info": {
   "codemirror_mode": {
    "name": "ipython",
    "version": 3
   },
   "file_extension": ".py",
   "mimetype": "text/x-python",
   "name": "python",
   "nbconvert_exporter": "python",
   "pygments_lexer": "ipython3",
   "version": "3.6.5"
  }
 },
 "nbformat": 4,
 "nbformat_minor": 2
}
