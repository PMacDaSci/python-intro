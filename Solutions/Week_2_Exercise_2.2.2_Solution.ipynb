{
 "cells": [
  {
   "cell_type": "markdown",
   "metadata": {},
   "source": [
    "# Week 2 Exercise 2.2.2"
   ]
  },
  {
   "cell_type": "code",
   "execution_count": 1,
   "metadata": {},
   "outputs": [],
   "source": [
    "# 1. Calculate GC content of a DNA sequence\n",
    "\n",
    "# 15-base array you created for the previous exercise\n",
    "bases = ['A', 'T', 'T', 'C', 'G', 'G', 'T', 'C', 'A', 'T', 'G', 'C', 'T', 'A', 'A']"
   ]
  },
  {
   "cell_type": "code",
   "execution_count": 2,
   "metadata": {},
   "outputs": [
    {
     "name": "stdout",
     "output_type": "stream",
     "text": [
      "Frequency of GC in the sequence: 6\n"
     ]
    }
   ],
   "source": [
    "# 2. Create a variable, gc, which we will use to count the number of Gs or Cs in our sequence\n",
    "gc = 0\n",
    "\n",
    "# Loop over the bases in your sequence.\n",
    "# If the base is a G or a C, add one to your gc variable.\n",
    "for base in bases:\n",
    "    if (base == 'G') or (base == 'C'):\n",
    "        gc += 1\n",
    "print(\"Frequency of GC in the sequence:\", gc)"
   ]
  },
  {
   "cell_type": "code",
   "execution_count": 3,
   "metadata": {},
   "outputs": [
    {
     "name": "stdout",
     "output_type": "stream",
     "text": [
      "%GC: 40.0\n"
     ]
    }
   ],
   "source": [
    "# 3. Calculate the GC percentage and print it\n",
    "gc_percent = 100 * (gc / len(bases))\n",
    "print(\"%GC:\", gc_percent)"
   ]
  }
 ],
 "metadata": {
  "kernelspec": {
   "display_name": "Python 3",
   "language": "python",
   "name": "python3"
  },
  "language_info": {
   "codemirror_mode": {
    "name": "ipython",
    "version": 3
   },
   "file_extension": ".py",
   "mimetype": "text/x-python",
   "name": "python",
   "nbconvert_exporter": "python",
   "pygments_lexer": "ipython3",
   "version": "3.6.5"
  }
 },
 "nbformat": 4,
 "nbformat_minor": 2
}
