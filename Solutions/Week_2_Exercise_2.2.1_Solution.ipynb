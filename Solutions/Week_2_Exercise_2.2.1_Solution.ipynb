{
 "cells": [
  {
   "cell_type": "markdown",
   "metadata": {},
   "source": [
    "# Week 2 Exercise 2.2.1"
   ]
  },
  {
   "cell_type": "code",
   "execution_count": 1,
   "metadata": {},
   "outputs": [],
   "source": [
    "# 1. Create a list where each element is an individual base of DNA.\n",
    "# Make the array 15 bases long.\n",
    "bases = ['A', 'T', 'T', 'C', 'G', 'G', 'T', 'C', 'A', 'T', 'G', 'C', 'T', 'A', 'A']"
   ]
  },
  {
   "cell_type": "code",
   "execution_count": 2,
   "metadata": {},
   "outputs": [
    {
     "name": "stdout",
     "output_type": "stream",
     "text": [
      "DNA sequence length: 15\n"
     ]
    }
   ],
   "source": [
    "# 2. Print the length of the list\n",
    "print(\"DNA sequence length:\", len(bases))"
   ]
  },
  {
   "cell_type": "code",
   "execution_count": 3,
   "metadata": {},
   "outputs": [
    {
     "name": "stdout",
     "output_type": "stream",
     "text": [
      "All bases:\n",
      "A\n",
      "T\n",
      "T\n",
      "C\n",
      "G\n",
      "G\n",
      "T\n",
      "C\n",
      "A\n",
      "T\n",
      "G\n",
      "C\n",
      "T\n",
      "A\n",
      "A\n"
     ]
    }
   ],
   "source": [
    "# 3. Create a for loop to output every base of the sequence on a new line.\n",
    "print(\"All bases:\")\n",
    "for base in bases:\n",
    "    print(base)"
   ]
  },
  {
   "cell_type": "code",
   "execution_count": 4,
   "metadata": {},
   "outputs": [
    {
     "name": "stdout",
     "output_type": "stream",
     "text": [
      "Every 3rd base:\n",
      "2 T\n",
      "5 G\n",
      "8 A\n",
      "11 C\n"
     ]
    }
   ],
   "source": [
    "# 4. Create a while loop that starts at the third base in the sequence\n",
    "# and outputs every third base until the 12th.\n",
    "print(\"Every 3rd base:\")\n",
    "pos = 2\n",
    "while pos <= 12:\n",
    "    print(pos, bases[pos])\n",
    "    pos += 3"
   ]
  }
 ],
 "metadata": {
  "kernelspec": {
   "display_name": "Python 3",
   "language": "python",
   "name": "python3"
  },
  "language_info": {
   "codemirror_mode": {
    "name": "ipython",
    "version": 3
   },
   "file_extension": ".py",
   "mimetype": "text/x-python",
   "name": "python",
   "nbconvert_exporter": "python",
   "pygments_lexer": "ipython3",
   "version": "3.6.5"
  }
 },
 "nbformat": 4,
 "nbformat_minor": 2
}
