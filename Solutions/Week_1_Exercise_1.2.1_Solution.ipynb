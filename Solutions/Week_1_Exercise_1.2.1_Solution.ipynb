{
 "cells": [
  {
   "cell_type": "markdown",
   "metadata": {},
   "source": [
    "# Week 1 Exercise 1.2.1"
   ]
  },
  {
   "cell_type": "code",
   "execution_count": 3,
   "metadata": {},
   "outputs": [],
   "source": [
    "# Use the codon variables you defined previously\n",
    "S = \"TCT\"\n",
    "L = \"CTT\"\n",
    "Y = \"TAT\"\n",
    "C = \"TGT\"\n",
    "\n",
    "# 1. Create a list for the protein sequence CLYSY\n",
    "codons = [C, L, Y, S, Y]"
   ]
  },
  {
   "cell_type": "code",
   "execution_count": 4,
   "metadata": {},
   "outputs": [
    {
     "name": "stdout",
     "output_type": "stream",
     "text": [
      "DNA sequence: ['TGT', 'CTT', 'TAT', 'TCT', 'TAT']\n"
     ]
    }
   ],
   "source": [
    "# 2. Print the DNA sequence of the protein\n",
    "print(\"DNA sequence:\", codons)"
   ]
  },
  {
   "cell_type": "code",
   "execution_count": 5,
   "metadata": {},
   "outputs": [
    {
     "name": "stdout",
     "output_type": "stream",
     "text": [
      "Last codon: TAT\n"
     ]
    }
   ],
   "source": [
    "# 3. Print the DNA sequence of the last amino acid\n",
    "print(\"Last codon:\", codons[-1])"
   ]
  },
  {
   "cell_type": "code",
   "execution_count": 6,
   "metadata": {},
   "outputs": [
    {
     "name": "stdout",
     "output_type": "stream",
     "text": [
      "DNA sequence after alteration: ATGCTTTATTCTTATTGA\n"
     ]
    }
   ],
   "source": [
    "# 4. Create two more variables containing the DNA sequence for a stop codon and a start codon\n",
    "start = \"ATG\"\n",
    "stop = \"TGA\"\n",
    "\n",
    "# Replace the first element of the list with the start codon\n",
    "codons[0] = start\n",
    "\n",
    "# Append the stop codon to the end of the list\n",
    "codons.append(stop)\n",
    "\n",
    "# Print the resulting DNA sequence\n",
    "print(\"DNA sequence after alteration:\", \"\".join(codons))"
   ]
  }
 ],
 "metadata": {
  "kernelspec": {
   "display_name": "Python 3",
   "language": "python",
   "name": "python3"
  },
  "language_info": {
   "codemirror_mode": {
    "name": "ipython",
    "version": 3
   },
   "file_extension": ".py",
   "mimetype": "text/x-python",
   "name": "python",
   "nbconvert_exporter": "python",
   "pygments_lexer": "ipython3",
   "version": "3.6.5"
  }
 },
 "nbformat": 4,
 "nbformat_minor": 2
}
