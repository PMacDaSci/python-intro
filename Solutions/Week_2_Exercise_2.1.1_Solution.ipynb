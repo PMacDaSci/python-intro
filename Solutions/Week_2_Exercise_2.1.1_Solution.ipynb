{
 "cells": [
  {
   "cell_type": "markdown",
   "metadata": {},
   "source": [
    "# Week 2 Exercise 2.1.1"
   ]
  },
  {
   "cell_type": "code",
   "execution_count": 1,
   "metadata": {},
   "outputs": [
    {
     "name": "stdout",
     "output_type": "stream",
     "text": [
      "Jane is older than Mary\n"
     ]
    }
   ],
   "source": [
    "# 1. Compare the age of two persons\n",
    "\n",
    "# Variables containing your name and your age\n",
    "name_1 = \"Jane\"\n",
    "age_1 = 31\n",
    "\n",
    "# Variables containing another person name and age\n",
    "name_2 = \"Mary\"\n",
    "age_2 = 29\n",
    "\n",
    "# Print a statement which says if you are younger, older or the same age\n",
    "if age_1 > age_2:\n",
    "    print(name_1, 'is older than', name_2)\n",
    "elif age_1 < age_2:\n",
    "    print(name_1, 'is younger than', name_2)\n",
    "else:\n",
    "    print(name_1, 'and', name_2, 'have the same age')"
   ]
  },
  {
   "cell_type": "code",
   "execution_count": 2,
   "metadata": {},
   "outputs": [
    {
     "name": "stdout",
     "output_type": "stream",
     "text": [
      "TAG found\n",
      "Stop codon found\n"
     ]
    }
   ],
   "source": [
    "# 2. Check if a DNA sequence contains a stop codon\n",
    "\n",
    "# DNA sequence given\n",
    "dna = \"GTT GCA CCA CAA CCG TAG TAA TGA\"\n",
    "\n",
    "# Check if the sequence contains one possible stop codon\n",
    "if \"TAG\" in dna:\n",
    "    print(\"TAG found\")\n",
    "\n",
    "# Check if the sequence contains any of the 3 stop codons\n",
    "if (\"TAG\" in dna) or (\"TAA\" in dna) or (\"TGA\" in dna):\n",
    "    print(\"Stop codon found\")"
   ]
  }
 ],
 "metadata": {
  "kernelspec": {
   "display_name": "Python 3",
   "language": "python",
   "name": "python3"
  },
  "language_info": {
   "codemirror_mode": {
    "name": "ipython",
    "version": 3
   },
   "file_extension": ".py",
   "mimetype": "text/x-python",
   "name": "python",
   "nbconvert_exporter": "python",
   "pygments_lexer": "ipython3",
   "version": "3.6.5"
  }
 },
 "nbformat": 4,
 "nbformat_minor": 2
}
