{
 "cells": [
  {
   "cell_type": "markdown",
   "metadata": {},
   "source": [
    "# Week 1 Exercise 1.2.3"
   ]
  },
  {
   "cell_type": "code",
   "execution_count": 4,
   "metadata": {},
   "outputs": [],
   "source": [
    "# 1. DNA sequence given\n",
    "codon_string = \"GTT GCA CCA CAA CCG\"\n",
    "\n",
    "# Split this string into the individual codons\n",
    "codon_list = codon_string.split()\n",
    "\n",
    "# Dictionary to map between codon sequences and amino acids they encode\n",
    "genetic_code = {\n",
    "    \"GTT\": \"Val\",\n",
    "    \"GCA\": \"Ala\",\n",
    "    \"CCA\": \"Pro\",\n",
    "    \"CAA\": \"Glu\",\n",
    "    \"CCG\": \"Pro\"\n",
    "}"
   ]
  },
  {
   "cell_type": "code",
   "execution_count": 5,
   "metadata": {},
   "outputs": [
    {
     "name": "stdout",
     "output_type": "stream",
     "text": [
      "GTT codes for Val\n",
      "GCA codes for Ala\n",
      "CCA codes for Pro\n",
      "CAA codes for Glu\n",
      "CCG codes for Pro\n"
     ]
    }
   ],
   "source": [
    "# 2. Print each codon and its corresponding amino acid\n",
    "print(codon_list[0], \"codes for\", genetic_code[codon_list[0]])\n",
    "print(codon_list[1], \"codes for\", genetic_code[codon_list[1]])\n",
    "print(codon_list[2], \"codes for\", genetic_code[codon_list[2]])\n",
    "print(codon_list[3], \"codes for\", genetic_code[codon_list[3]])\n",
    "print(codon_list[4], \"codes for\", genetic_code[codon_list[4]])"
   ]
  },
  {
   "cell_type": "code",
   "execution_count": 6,
   "metadata": {},
   "outputs": [
    {
     "name": "stdout",
     "output_type": "stream",
     "text": [
      "A has 15 occurrence(s)\n",
      "C has 8 occurrence(s)\n",
      "D has 8 occurrence(s)\n",
      "E has 3 occurrence(s)\n"
     ]
    }
   ],
   "source": [
    "# Advanced Exercise\n",
    "\n",
    "# 1-letter code lysozyme protein sequence given\n",
    "seq = \"MKALIVLGLVLLSVTVQGKVFERCELARTLKRLGMDGYRGISLANWMCLAKWESGYNTRATNYNAGDRSTDYGIFQINSRYWCNDGKTPGAVNACHLSCSALLQDNIADAVACAKRVVRDPQGIRAWVAWRNRCQNRDVRQYVQGCGV\"\n",
    "\n",
    "# Count the abundance of different residue types and store the result in a dictionary\n",
    "aa_counts = {}\n",
    "aa_counts['A'] = seq.count('A')\n",
    "aa_counts['C'] = seq.count('C')\n",
    "aa_counts['D'] = seq.count('D')\n",
    "aa_counts['E'] = seq.count('E')\n",
    "# etc...\n",
    "\n",
    "# Print the results in alphabetical order\n",
    "print('A has', aa_counts['A'], 'occurrence(s)')\n",
    "print('C has', aa_counts['C'], 'occurrence(s)')\n",
    "print('D has', aa_counts['D'], 'occurrence(s)')\n",
    "print('E has', aa_counts['E'], 'occurrence(s)')"
   ]
  }
 ],
 "metadata": {
  "kernelspec": {
   "display_name": "Python 3",
   "language": "python",
   "name": "python3"
  },
  "language_info": {
   "codemirror_mode": {
    "name": "ipython",
    "version": 3
   },
   "file_extension": ".py",
   "mimetype": "text/x-python",
   "name": "python",
   "nbconvert_exporter": "python",
   "pygments_lexer": "ipython3",
   "version": "3.6.5"
  }
 },
 "nbformat": 4,
 "nbformat_minor": 2
}
