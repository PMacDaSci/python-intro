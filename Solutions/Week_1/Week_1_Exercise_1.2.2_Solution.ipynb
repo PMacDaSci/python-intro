{
 "cells": [
  {
   "cell_type": "markdown",
   "metadata": {},
   "source": [
    "# Week 1 Exercise 1.2.2"
   ]
  },
  {
   "cell_type": "code",
   "execution_count": 6,
   "metadata": {},
   "outputs": [
    {
     "name": "stdout",
     "output_type": "stream",
     "text": [
      "Surname: Trump\n"
     ]
    }
   ],
   "source": [
    "# 1. Create a string variable with your full name\n",
    "name = \"Donald Trump\"\n",
    "\n",
    "# Split the string into a list\n",
    "names = name.split(\" \")\n",
    "\n",
    "# Print out your surname\n",
    "surname = names[-1]\n",
    "print(\"Surname:\", surname)"
   ]
  },
  {
   "cell_type": "code",
   "execution_count": 7,
   "metadata": {},
   "outputs": [
    {
     "name": "stdout",
     "output_type": "stream",
     "text": [
      "Position of 'e': -1\n",
      "Position of 'o': -1\n"
     ]
    }
   ],
   "source": [
    "# 2. Check if your surname contains the letter 'e'\n",
    "pos = surname.find(\"e\")\n",
    "print(\"Position of 'e':\", pos)\n",
    "\n",
    "# or contains the letter 'o'\n",
    "pos = surname.find(\"o\")\n",
    "print(\"Position of 'o':\", pos)"
   ]
  },
  {
   "cell_type": "code",
   "execution_count": 8,
   "metadata": {},
   "outputs": [
    {
     "name": "stdout",
     "output_type": "stream",
     "text": [
      "Donald is 6 characters long\n"
     ]
    }
   ],
   "source": [
    "### Optional --------------------------------------------------------\n",
    "\n",
    "# Use a format string to print out your first name and the length of your first name\n",
    "print(\"{:s} is {:d} characters long\".format(names[0], len(names[0])))"
   ]
  }
 ],
 "metadata": {
  "kernelspec": {
   "display_name": "Python 3",
   "language": "python",
   "name": "python3"
  },
  "language_info": {
   "codemirror_mode": {
    "name": "ipython",
    "version": 3
   },
   "file_extension": ".py",
   "mimetype": "text/x-python",
   "name": "python",
   "nbconvert_exporter": "python",
   "pygments_lexer": "ipython3",
   "version": "3.6.5"
  }
 },
 "nbformat": 4,
 "nbformat_minor": 2
}
