{
 "cells": [
  {
   "cell_type": "markdown",
   "metadata": {},
   "source": [
    "# Week 3 Exercise 3.1.1\n"
   ]
  },
  {
   "cell_type": "code",
   "execution_count": 17,
   "metadata": {},
   "outputs": [],
   "source": [
    "lyrics = \"\"\"\n",
    "Imagine there's no Heaven\n",
    "It's easy if you try\n",
    "No Hell below us\n",
    "Above us only sky\n",
    "\n",
    "Imagine all the people\n",
    "Living for today\n",
    "Aaa haa\n",
    "\n",
    "Imagine there's no countries\n",
    "It isn't hard to do\n",
    "Nothing to kill or die for\n",
    "And no religion too\n",
    "\n",
    "Imagine all the people\n",
    "Living life in peace\n",
    "Yoo hoo\n",
    "\n",
    "You may say I'm a dreamer\n",
    "But I'm not the only one\n",
    "I hope someday you'll join us\n",
    "And the world will be as one\n",
    "\n",
    "Imagine no possessions\n",
    "I wonder if you can\n",
    "No need for greed or hunger\n",
    "A brotherhood of man\n",
    "\n",
    "Imagine all the people\n",
    "Sharing all the world\n",
    "Yoo hoo\n",
    "\n",
    "You may say I'm a dreamer\n",
    "But I'm not the only one\n",
    "I hope someday you'll join us\n",
    "And the world will live as one\n",
    "\"\"\""
   ]
  },
  {
   "cell_type": "code",
   "execution_count": 18,
   "metadata": {},
   "outputs": [],
   "source": [
    "# Change all character to lower ones\n",
    "lyrics = lyrics.lower()"
   ]
  },
  {
   "cell_type": "code",
   "execution_count": null,
   "metadata": {},
   "outputs": [],
   "source": [
    "# Split into words\n",
    "words = lyrics.split()"
   ]
  },
  {
   "cell_type": "code",
   "execution_count": 19,
   "metadata": {},
   "outputs": [
    {
     "name": "stdout",
     "output_type": "stream",
     "text": [
      "There are 133 words in this song.\n"
     ]
    }
   ],
   "source": [
    "# Print the total number of words\n",
    "print('There are', len(words), 'words in this song.')"
   ]
  },
  {
   "cell_type": "code",
   "execution_count": 20,
   "metadata": {},
   "outputs": [
    {
     "name": "stdout",
     "output_type": "stream",
     "text": [
      "There are 69 unique ones.\n"
     ]
    }
   ],
   "source": [
    "# Print the number of unique words\n",
    "unique_words = set(words)\n",
    "print('There are', len(unique_words), 'unique ones.')"
   ]
  },
  {
   "cell_type": "code",
   "execution_count": 21,
   "metadata": {},
   "outputs": [],
   "source": [
    "# Calculate the frequency of each word and store the result into a dictionary\n",
    "results = {}\n",
    "for w in unique_words:\n",
    "    results[w.lower()] = words.count(w)"
   ]
  },
  {
   "cell_type": "code",
   "execution_count": 22,
   "metadata": {},
   "outputs": [
    {
     "name": "stdout",
     "output_type": "stream",
     "text": [
      "1 \t need\n",
      "6 \t imagine\n",
      "1 \t easy\n",
      "1 \t haa\n",
      "1 \t it\n",
      "3 \t a\n",
      "2 \t say\n",
      "2 \t dreamer\n",
      "2 \t not\n",
      "1 \t above\n",
      "1 \t in\n",
      "1 \t of\n",
      "4 \t i'm\n",
      "3 \t i\n",
      "1 \t religion\n",
      "1 \t man\n",
      "1 \t it's\n",
      "2 \t or\n",
      "2 \t join\n",
      "1 \t greed\n",
      "2 \t you'll\n",
      "1 \t heaven\n",
      "2 \t someday\n",
      "1 \t aaa\n",
      "2 \t hoo\n",
      "4 \t all\n",
      "1 \t try\n",
      "1 \t kill\n",
      "1 \t peace\n",
      "2 \t but\n",
      "1 \t live\n",
      "1 \t today\n",
      "3 \t only\n",
      "6 \t no\n",
      "2 \t living\n",
      "2 \t hope\n",
      "3 \t people\n",
      "2 \t to\n",
      "1 \t life\n",
      "1 \t can\n",
      "1 \t sky\n",
      "2 \t yoo\n",
      "1 \t wonder\n",
      "1 \t nothing\n",
      "1 \t hard\n",
      "1 \t possessions\n",
      "3 \t world\n",
      "1 \t below\n",
      "1 \t too\n",
      "8 \t the\n",
      "2 \t may\n",
      "2 \t will\n",
      "2 \t as\n",
      "1 \t sharing\n",
      "1 \t be\n",
      "2 \t if\n",
      "1 \t isn't\n",
      "4 \t you\n",
      "3 \t for\n",
      "4 \t one\n",
      "1 \t hunger\n",
      "1 \t brotherhood\n",
      "3 \t and\n",
      "1 \t countries\n",
      "2 \t there's\n",
      "4 \t us\n",
      "1 \t do\n",
      "1 \t die\n",
      "1 \t hell\n"
     ]
    }
   ],
   "source": [
    "# Print each unique word along with its frequency\n",
    "for r in results:\n",
    "    print(results[r], '\\t', r)"
   ]
  },
  {
   "cell_type": "code",
   "execution_count": 23,
   "metadata": {},
   "outputs": [],
   "source": [
    "# Find the most frequent word in the song\n",
    "most_frequent = 0\n",
    "for r in results:\n",
    "    if results[r] > most_frequent:\n",
    "        most_frequent = results[r]\n",
    "        most_frequent_word = r"
   ]
  },
  {
   "cell_type": "code",
   "execution_count": 24,
   "metadata": {},
   "outputs": [
    {
     "name": "stdout",
     "output_type": "stream",
     "text": [
      "\" the \" is the most frequent word being used 8 times.\n"
     ]
    }
   ],
   "source": [
    "# Print the most frequent word with its frequency\n",
    "print('\"', most_frequent_word, '\" is the most frequent word being used', most_frequent, 'times.')"
   ]
  }
 ],
 "metadata": {
  "kernelspec": {
   "display_name": "Python 3",
   "language": "python",
   "name": "python3"
  },
  "language_info": {
   "codemirror_mode": {
    "name": "ipython",
    "version": 3
   },
   "file_extension": ".py",
   "mimetype": "text/x-python",
   "name": "python",
   "nbconvert_exporter": "python",
   "pygments_lexer": "ipython3",
   "version": "3.6.5"
  }
 },
 "nbformat": 4,
 "nbformat_minor": 2
}
