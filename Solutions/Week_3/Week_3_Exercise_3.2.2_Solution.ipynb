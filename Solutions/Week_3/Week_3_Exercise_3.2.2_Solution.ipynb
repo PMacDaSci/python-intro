{
 "cells": [
  {
   "cell_type": "markdown",
   "metadata": {},
   "source": [
    "# Week 3 Exercise 3.2.2"
   ]
  },
  {
   "cell_type": "code",
   "execution_count": 1,
   "metadata": {},
   "outputs": [
    {
     "name": "stdout",
     "output_type": "stream",
     "text": [
      "data/genes.txt does not exists!\n",
      "gene_lengths.tsv does not exists!\n"
     ]
    }
   ],
   "source": [
    "# Read a tab delimited file which has 4 columns: gene, chromosome, start and end coordinates.\n",
    "# Check if the file exists, then compute the length of each gene and store\n",
    "# its name and corresponding length into a dictionary.\n",
    "# Write the results into a new tab separated file.\n",
    "\n",
    "import os.path\n",
    "\n",
    "gene_file = os.path.join('data', 'genes.txt')\n",
    "output_file = \"gene_lengths.tsv\"\n",
    "\n",
    "if os.path.exists(gene_file):\n",
    "    results = []\n",
    "    with open(gene_file) as f:\n",
    "        header = f.readline()\n",
    "        for line in f:\n",
    "            gene, chrom, start, end = line.strip().split(\"\\t\")\n",
    "            row = {'gene': gene, 'length': int(end) - int(start) + 1}\n",
    "            results.append(row)\n",
    "    print(results)\n",
    "    with open(output_file, \"w\") as out:\n",
    "        out.write('gene' + \"\\t\" + 'length' + \"\\n\")  # write header\n",
    "        for record in results:\n",
    "            out.write(record['gene'] + \"\\t\" + str(record['length']) + \"\\n\")\n",
    "else:\n",
    "    print(gene_file, 'does not exists!')\n",
    "\n",
    "if os.path.exists(output_file):\n",
    "    # print contents of output file\n",
    "    with open(output_file) as f:\n",
    "        print(f.read())\n",
    "else:\n",
    "    print(output_file, 'does not exists!')"
   ]
  }
 ],
 "metadata": {
  "kernelspec": {
   "display_name": "Python 3",
   "language": "python",
   "name": "python3"
  },
  "language_info": {
   "codemirror_mode": {
    "name": "ipython",
    "version": 3
   },
   "file_extension": ".py",
   "mimetype": "text/x-python",
   "name": "python",
   "nbconvert_exporter": "python",
   "pygments_lexer": "ipython3",
   "version": "3.6.5"
  }
 },
 "nbformat": 4,
 "nbformat_minor": 2
}
