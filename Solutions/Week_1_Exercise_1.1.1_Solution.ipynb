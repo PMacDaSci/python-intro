{
 "cells": [
  {
   "cell_type": "markdown",
   "metadata": {},
   "source": [
    "# Week 1 Exercise 1.1.1"
   ]
  },
  {
   "cell_type": "code",
   "execution_count": 3,
   "metadata": {},
   "outputs": [
    {
     "name": "stdout",
     "output_type": "stream",
     "text": [
      "my name is Jane and I am 21 years old.\n"
     ]
    }
   ],
   "source": [
    "# 1. Create a variable and assign it the string value of your first name,\n",
    "# assign your age to another variable (you are free to lie!), print out a message saying how old you are\n",
    "\n",
    "name = \"Jane\"\n",
    "age = 21\n",
    "print(\"my name is\", name, \"and I am\", age, \"years old.\")\n"
   ]
  },
  {
   "cell_type": "code",
   "execution_count": 5,
   "metadata": {},
   "outputs": [
    {
     "name": "stdout",
     "output_type": "stream",
     "text": [
      "Jane will be 41 in 10 years.\n"
     ]
    }
   ],
   "source": [
    "# 2. Use the addition operator to add 10 to your age and print out a message saying how old you will be in 10 years time\n",
    "age += 10\n",
    "print(name, \"will be\", age, \"in 10 years.\")"
   ]
  }
 ],
 "metadata": {
  "kernelspec": {
   "display_name": "Python 3",
   "language": "python",
   "name": "python3"
  },
  "language_info": {
   "codemirror_mode": {
    "name": "ipython",
    "version": 3
   },
   "file_extension": ".py",
   "mimetype": "text/x-python",
   "name": "python",
   "nbconvert_exporter": "python",
   "pygments_lexer": "ipython3",
   "version": "3.6.5"
  }
 },
 "nbformat": 4,
 "nbformat_minor": 2
}
