{
 "cells": [
  {
   "cell_type": "markdown",
   "metadata": {},
   "source": [
    "## Week 3 Exercise 3.2.1\n"
   ]
  },
  {
   "cell_type": "code",
   "execution_count": 2,
   "metadata": {},
   "outputs": [],
   "source": [
    "# 1. Script that writes the values of a list of numbers to a file,\n",
    "# with each number on a separate line.\n",
    "\n",
    "data = 54, 66, 38, 54, 34, 50, 27, 74, 74, 85, 87 ,4, 9, 59, 32, 100, 83, 7, 54, 48\n",
    "\n",
    "with open(\"numbers.txt\", \"w\") as f:\n",
    "    for d in data:\n",
    "        f.write(str(d) + \"\\n\")"
   ]
  },
  {
   "cell_type": "code",
   "execution_count": null,
   "metadata": {},
   "outputs": [],
   "source": [
    "# 2. Write a script that reads a file containing many lines of nucleotide sequence\n",
    "# For each line in the file, print out the line number,\n",
    "# the length of the sequence and the sequence\n",
    "\n",
    "import sys\n",
    "\n",
    "with open('data/dna.txt', \"r\") as f:\n",
    "    line_num = 0\n",
    "    for line in f:\n",
    "        line = line.rstrip()\n",
    "        line_num += 1\n",
    "        print(line_num, \":\", len(line), \"\\t\", line)"
   ]
  }
 ],
 "metadata": {
  "kernelspec": {
   "display_name": "Python 3",
   "language": "python",
   "name": "python3"
  },
  "language_info": {
   "codemirror_mode": {
    "name": "ipython",
    "version": 3
   },
   "file_extension": ".py",
   "mimetype": "text/x-python",
   "name": "python",
   "nbconvert_exporter": "python",
   "pygments_lexer": "ipython3",
   "version": "3.6.5"
  }
 },
 "nbformat": 4,
 "nbformat_minor": 2
}
